{
  "cells": [
    {
      "cell_type": "markdown",
      "metadata": {
        "id": "a8Fj49w7S-2U"
      },
      "source": [
        "# Midterm 2025\n",
        "\n",
        "1. **Mục tiêu:** Xây dựng mô hình phân lớp tiêu đề StackOverflow *(Phân lớp văn bản)* cho 3 loại: \"hướng dẫn\", \"khái niệm\" và \"sửa lỗi\".\n",
        "\n",
        "2. **Yêu cầu:**\n",
        "    - **Xử lý dữ liệu:**\n",
        "        - Làm sạch dữ liệu (loại bỏ ký tự đặc biệt, chuyển về chữ thường, v.v.)\n",
        "        - Chia dữ liệu thành tập huấn luyện, tập kiểm tra và tập xác thực\n",
        "    - **Trích rút thông tin:**\n",
        "        - Sử dụng các kỹ thuật như Bag of Words, TF-IDF hoặc Word Embeddings để chuyển đổi tiêu đề thành các đặc trưng số\n",
        "    - **Huấn luyện và đánh giá mô hình:**\n",
        "        - Chọn và huấn luyện các mô hình phân lớp (ví dụ: Logistic Regression, SVM, Random Forest, Neural Networks)\n",
        "        - Đánh giá mô hình sử dụng các chỉ số như độ chính xác, độ nhạy, độ đặc hiệu và F1-score\n",
        "        - So sánh hiệu suất của các mô hình khác nhau và chọn mô hình tốt nhất\n",
        "\n",
        "3. **Dữ liệu:** Sử dụng tập dữ liệu tiêu đề StackOverflow đã được gán nhãn sẵn tại link: https://drive.google.com/uc?id=1ef8DpctKSDpQEZz5icfrKb9yk-b-jyWF\n",
        "\n",
        "    Mô tả dữ liệu:\n",
        "    - File: `question_title.csv`\n",
        "    - Cột:\n",
        "    - `title`: Tiêu đề câu hỏi\n",
        "    - `label`: Nhãn phân loại (hướng dẫn, khái niệm, sửa lỗi)\n",
        "    - Số lượng tiêu đề: 866 tiêu đề\n",
        "\n",
        "4. **Hướng dẫn làm bài:**\n",
        "    - Hoàn thành các câu hỏi trong notebook `midterm_2025.ipynb`\n",
        "    - Hoàn thành code trong `### YOUR CODE HERE ###`\n",
        "    - Không thay đổi các phần `# --- DO NOT CHANGE HERE ---` và `# --- IGNORE ---`"
      ]
    },
    {
      "cell_type": "markdown",
      "metadata": {},
      "source": [
        "## 0. Cài đặt thư viện, dữ liệu"
      ]
    },
    {
      "cell_type": "code",
      "execution_count": 1,
      "metadata": {},
      "outputs": [],
      "source": [
        "!pip install -q gdown scikit-learn"
      ]
    },
    {
      "cell_type": "code",
      "execution_count": 2,
      "metadata": {},
      "outputs": [
        {
          "name": "stderr",
          "output_type": "stream",
          "text": [
            "Downloading...\n",
            "From: https://drive.google.com/uc?id=1ef8DpctKSDpQEZz5icfrKb9yk-b-jyWF\n",
            "To: d:\\Projects\\TEST\\nlp-course-lab\\midterm\\question_title.csv\n",
            "\n",
            "  0%|          | 0.00/52.0k [00:00<?, ?B/s]\n",
            "100%|██████████| 52.0k/52.0k [00:00<00:00, 3.02MB/s]\n"
          ]
        }
      ],
      "source": [
        "# Download dữ liệu\n",
        "!gdown https://drive.google.com/uc?id=1ef8DpctKSDpQEZz5icfrKb9yk-b-jyWF"
      ]
    },
    {
      "cell_type": "markdown",
      "metadata": {
        "id": "Z1Er6eCYYwgh"
      },
      "source": [
        "## 1. Đọc dữ liệu"
      ]
    },
    {
      "cell_type": "markdown",
      "metadata": {},
      "source": [
        "### Câu 1: Đọc dữ liệu & Thống kê dữ liệu\n",
        "\n",
        "**Mô tả:** Đọc dữ liệu từ file `question_title.csv` và hiển thị 5 dòng đầu tiên của dữ liệu"
      ]
    },
    {
      "cell_type": "code",
      "execution_count": 3,
      "metadata": {
        "colab": {
          "base_uri": "https://localhost:8080/"
        },
        "id": "Y927zGd3YuV3",
        "outputId": "92eb08be-c5d7-45b7-e4c3-11dd6648cb81"
      },
      "outputs": [],
      "source": [
        "import pandas as pd\n",
        "\n",
        "def read_data(file_path: str) -> pd.DataFrame:\n",
        "    \"\"\"\n",
        "    Đọc dữ liệu từ file CSV\n",
        "    Args:\n",
        "        file_path (str): Đường dẫn tới file CSV\n",
        "    Returns:\n",
        "        pd.DataFrame: Dữ liệu được đọc từ file\n",
        "    \"\"\"\n",
        "    ### YOUR CODE HERE\n",
        "    data = pd.read_csv(file_path)\n",
        "\n",
        "    return data\n",
        "    ### YOUR CODE HERE"
      ]
    },
    {
      "cell_type": "code",
      "execution_count": 4,
      "metadata": {},
      "outputs": [
        {
          "name": "stdout",
          "output_type": "stream",
          "text": [
            "Columns: Index(['Unnamed: 0', 'question_title', 'question_type'], dtype='object')\n"
          ]
        },
        {
          "data": {
            "application/vnd.microsoft.datawrangler.viewer.v0+json": {
              "columns": [
                {
                  "name": "index",
                  "rawType": "int64",
                  "type": "integer"
                },
                {
                  "name": "Unnamed: 0",
                  "rawType": "int64",
                  "type": "integer"
                },
                {
                  "name": "question_title",
                  "rawType": "object",
                  "type": "string"
                },
                {
                  "name": "question_type",
                  "rawType": "int64",
                  "type": "integer"
                }
              ],
              "ref": "6154c509-763e-4455-aafc-b1dfa4e56670",
              "rows": [
                [
                  "0",
                  "0",
                  "What are metaclasses in Python?",
                  "0"
                ],
                [
                  "1",
                  "1",
                  "Hidden features of Python",
                  "0"
                ],
                [
                  "2",
                  "2",
                  "What is the effect of extern \"C\" in C++?",
                  "0"
                ],
                [
                  "3",
                  "3",
                  "When should I use Cross Apply over Inner Join?",
                  "0"
                ],
                [
                  "4",
                  "4",
                  "Embedding Base64 Images",
                  "0"
                ]
              ],
              "shape": {
                "columns": 3,
                "rows": 5
              }
            },
            "text/html": [
              "<div>\n",
              "<style scoped>\n",
              "    .dataframe tbody tr th:only-of-type {\n",
              "        vertical-align: middle;\n",
              "    }\n",
              "\n",
              "    .dataframe tbody tr th {\n",
              "        vertical-align: top;\n",
              "    }\n",
              "\n",
              "    .dataframe thead th {\n",
              "        text-align: right;\n",
              "    }\n",
              "</style>\n",
              "<table border=\"1\" class=\"dataframe\">\n",
              "  <thead>\n",
              "    <tr style=\"text-align: right;\">\n",
              "      <th></th>\n",
              "      <th>Unnamed: 0</th>\n",
              "      <th>question_title</th>\n",
              "      <th>question_type</th>\n",
              "    </tr>\n",
              "  </thead>\n",
              "  <tbody>\n",
              "    <tr>\n",
              "      <th>0</th>\n",
              "      <td>0</td>\n",
              "      <td>What are metaclasses in Python?</td>\n",
              "      <td>0</td>\n",
              "    </tr>\n",
              "    <tr>\n",
              "      <th>1</th>\n",
              "      <td>1</td>\n",
              "      <td>Hidden features of Python</td>\n",
              "      <td>0</td>\n",
              "    </tr>\n",
              "    <tr>\n",
              "      <th>2</th>\n",
              "      <td>2</td>\n",
              "      <td>What is the effect of extern \"C\" in C++?</td>\n",
              "      <td>0</td>\n",
              "    </tr>\n",
              "    <tr>\n",
              "      <th>3</th>\n",
              "      <td>3</td>\n",
              "      <td>When should I use Cross Apply over Inner Join?</td>\n",
              "      <td>0</td>\n",
              "    </tr>\n",
              "    <tr>\n",
              "      <th>4</th>\n",
              "      <td>4</td>\n",
              "      <td>Embedding Base64 Images</td>\n",
              "      <td>0</td>\n",
              "    </tr>\n",
              "  </tbody>\n",
              "</table>\n",
              "</div>"
            ],
            "text/plain": [
              "   Unnamed: 0                                  question_title  question_type\n",
              "0           0                 What are metaclasses in Python?              0\n",
              "1           1                       Hidden features of Python              0\n",
              "2           2        What is the effect of extern \"C\" in C++?              0\n",
              "3           3  When should I use Cross Apply over Inner Join?              0\n",
              "4           4                         Embedding Base64 Images              0"
            ]
          },
          "execution_count": 4,
          "metadata": {},
          "output_type": "execute_result"
        }
      ],
      "source": [
        "DATASET_PATH = 'question_title.csv' # Đường dẫn tới file dữ liệu\n",
        "\n",
        "# --- DO NOT CHANGE HERE ---\n",
        "data = read_data(file_path=DATASET_PATH)\n",
        "\n",
        "# Print columns\n",
        "print(f\"Columns: {data.columns}\")\n",
        "\n",
        "# Hiển thị 5 dòng đầu tiên của dữ liệu\n",
        "data.head()\n",
        "\n",
        "# --- DO NOT CHANGE HERE ---"
      ]
    },
    {
      "cell_type": "code",
      "execution_count": 5,
      "metadata": {},
      "outputs": [],
      "source": [
        "# Thống kê số lượng dữ liệu theo nhãn\n",
        "def count_labels(data: pd.DataFrame) -> pd.Series:\n",
        "    \"\"\"\n",
        "    Đếm số lượng dữ liệu theo nhãn\n",
        "    Args:\n",
        "        data (pd.DataFrame): Dữ liệu đầu vào, gồm các cột 'Unnamed: 0', 'question_title', 'question_type'\n",
        "    Returns:\n",
        "        pd.Series: Số lượng dữ liệu theo nhãn\n",
        "    \"\"\"\n",
        "    ### YOUR CODE HERE\n",
        "    label_counts = data['question_type'].value_counts()\n",
        "\n",
        "    return label_counts\n",
        "\n",
        "    ### YOUR CODE HERE"
      ]
    },
    {
      "cell_type": "code",
      "execution_count": 6,
      "metadata": {},
      "outputs": [
        {
          "data": {
            "application/vnd.microsoft.datawrangler.viewer.v0+json": {
              "columns": [
                {
                  "name": "question_type",
                  "rawType": "int64",
                  "type": "integer"
                },
                {
                  "name": "count",
                  "rawType": "int64",
                  "type": "integer"
                }
              ],
              "ref": "3ae22d8a-d287-4cec-83a1-c8ee4ca3de6d",
              "rows": [
                [
                  "1",
                  "305"
                ],
                [
                  "0",
                  "300"
                ],
                [
                  "2",
                  "261"
                ]
              ],
              "shape": {
                "columns": 1,
                "rows": 3
              }
            },
            "text/plain": [
              "question_type\n",
              "1    305\n",
              "0    300\n",
              "2    261\n",
              "Name: count, dtype: int64"
            ]
          },
          "execution_count": 6,
          "metadata": {},
          "output_type": "execute_result"
        }
      ],
      "source": [
        "# --- DO NOT CHANGE HERE ---\n",
        "\n",
        "label_counts = count_labels(data)\n",
        "label_counts\n",
        "\n",
        "# --- DO NOT CHANGE HERE ---"
      ]
    },
    {
      "cell_type": "markdown",
      "metadata": {
        "id": "d9iID7d9f3Hr"
      },
      "source": [
        "## 2. Xử lý dữ liệu\n",
        "\n",
        "**Mô tả:** Tiền xử lý dữ liệu văn bản gồm các bước:\n",
        "1. Loại bỏ các ký tự đặc biệt, số, dấu câu\n",
        "2. Chuyển chữ in hoa thành in thường\n",
        "3. Lemmatization\n",
        "4. Xoá các từ có độ dài ngắn (ví dụ: <= 2 ký tự)"
      ]
    },
    {
      "cell_type": "markdown",
      "metadata": {
        "id": "Jlx4gq6ukked"
      },
      "source": [
        "### Câu 2: Loại bỏ ký tự đặc biệt, số, dấu câu sử dụng biểu thức chính quy"
      ]
    },
    {
      "cell_type": "code",
      "execution_count": 7,
      "metadata": {
        "id": "XmFA8W0WkgYb"
      },
      "outputs": [],
      "source": [
        "import re\n",
        "\n",
        "def regex(text: str) -> str:\n",
        "    \"\"\"\n",
        "    Loại bỏ các ký tự đặc biệt, chữ số, khoảng trắng thừa sử dụng biểu thức chính quy\n",
        "    Args:\n",
        "        text (str): Văn bản đầu vào\n",
        "    Returns:\n",
        "        str: Văn bản đã được làm sạch\n",
        "    \"\"\"\n",
        "    ### YOUR CODE HERE\n",
        "    # Loại bỏ các ký tự đặc biệt và chữ số\n",
        "    text = re.sub(r'[^a-zA-Z\\s]', '', text)\n",
        "    # Loại bỏ khoảng trắng thừa\n",
        "    text = re.sub(r'\\s+', ' ', text).strip()\n",
        "\n",
        "    return text\n",
        "    ### YOUR CODE HERE"
      ]
    },
    {
      "cell_type": "code",
      "execution_count": 8,
      "metadata": {},
      "outputs": [
        {
          "data": {
            "text/plain": [
              "'Million people die in car accidents every year'"
            ]
          },
          "execution_count": 8,
          "metadata": {},
          "output_type": "execute_result"
        }
      ],
      "source": [
        "# --- DO NOT CHANGE HERE ---\n",
        "regex(text=\"1.3_Million people    die in car accidents every year\")\n",
        "\n",
        "# --- DO NOT CHANGE HERE ---"
      ]
    },
    {
      "cell_type": "markdown",
      "metadata": {
        "id": "ko0LRGMAm2o9"
      },
      "source": [
        "### Câu 3: Chuyển chữ in hoa thành in thường"
      ]
    },
    {
      "cell_type": "code",
      "execution_count": 9,
      "metadata": {
        "id": "pE9fbnvSnPic"
      },
      "outputs": [],
      "source": [
        "def text_lowercase(text: str) -> str:\n",
        "    \"\"\"\n",
        "    Chuyển chữ in hoa thành in thường\n",
        "    Args:\n",
        "        text (str): Văn bản đầu vào\n",
        "    Returns:\n",
        "        str: Văn bản đã được chuyển thành chữ thường\n",
        "    \"\"\"\n",
        "    ### YOUR CODE HERE\n",
        "    text = text.lower()\n",
        "\n",
        "    return text\n",
        "    ### YOUR CODE HERE"
      ]
    },
    {
      "cell_type": "code",
      "execution_count": 10,
      "metadata": {},
      "outputs": [
        {
          "data": {
            "text/plain": [
              "'our ai smart mobility technology is making driving safer and more comfortable'"
            ]
          },
          "execution_count": 10,
          "metadata": {},
          "output_type": "execute_result"
        }
      ],
      "source": [
        "# --- DO NOT CHANGE HERE ---\n",
        "text_lowercase(text=\"Our AI Smart Mobility technology is making driving safer and more comfortable\")\n",
        "\n",
        "# --- DO NOT CHANGE HERE ---"
      ]
    },
    {
      "cell_type": "markdown",
      "metadata": {
        "id": "eG7n6S3gnZ6R"
      },
      "source": [
        "### Câu 4: Lemmatization\n",
        "\n",
        "**Mô tả:** Sử dụng thư viện `nltk` để thực hiện chuyển đổi về dạng gốc của từ (lemmatization)"
      ]
    },
    {
      "cell_type": "code",
      "execution_count": 11,
      "metadata": {},
      "outputs": [],
      "source": [
        "from nltk.stem import WordNetLemmatizer\n",
        "\n",
        "# Define lemmatizer\n",
        "lemitizer = WordNetLemmatizer()\n",
        "\n",
        "def lemmatization(text: str) -> str:\n",
        "    \"\"\"\n",
        "    Chuyển đổi về dạng gốc của từ (lemmatization) cho động từ\n",
        "    Args:\n",
        "        text (str): Văn bản đầu vào\n",
        "    Returns:\n",
        "        str: Văn bản đã được lemmatization\n",
        "    \"\"\"\n",
        "    ### YOUR CODE HERE\n",
        "    words = text.split()\n",
        "    lemmatized_words = [lemitizer.lemmatize(word=word, pos='v') for word in words]\n",
        "    lemmatized_text = ' '.join(lemmatized_words)\n",
        "\n",
        "    return lemmatized_text\n",
        "    ### YOUR CODE HERE"
      ]
    },
    {
      "cell_type": "code",
      "execution_count": 12,
      "metadata": {},
      "outputs": [
        {
          "data": {
            "text/plain": [
              "'say say cars better buy do doors'"
            ]
          },
          "execution_count": 12,
          "metadata": {},
          "output_type": "execute_result"
        }
      ],
      "source": [
        "# --- DO NOT CHANGE HERE ---\n",
        "sample_text = \"saying said cars better bought does doors\"\n",
        "lemmatization(text=sample_text)\n",
        "\n",
        "# --- DO NOT CHANGE HERE ---"
      ]
    },
    {
      "cell_type": "markdown",
      "metadata": {
        "id": "hagmMU0aobWz"
      },
      "source": [
        "### Câu 5: Xoá các từ có độ dài bằng 1\n",
        "\n",
        "**Mô tả:** Xoá các từ có độ dài ngắn (ví dụ: <= 2 ký tự) khỏi tiêu đề"
      ]
    },
    {
      "cell_type": "code",
      "execution_count": 13,
      "metadata": {},
      "outputs": [],
      "source": [
        "def remove_short_words(text: str, min_length: int = 2) -> str:\n",
        "    \"\"\"\n",
        "    Xoá các từ có độ dài ngắn (ví dụ: <= 2 ký tự) khỏi tiêu đề\n",
        "    Args:\n",
        "        text (str): Văn bản đầu vào\n",
        "        min_length (int): Độ dài tối thiểu của từ để giữ lại\n",
        "    Returns:\n",
        "        str: Văn bản đã được loại bỏ các từ ngắn\n",
        "    \"\"\"\n",
        "    ### YOUR CODE HERE\n",
        "    words = text.split()\n",
        "    filtered_words = [word for word in words if len(word) > min_length]\n",
        "    filtered_text = ' '.join(filtered_words)\n",
        "\n",
        "    return filtered_text\n",
        "    ### YOUR CODE HERE"
      ]
    },
    {
      "cell_type": "code",
      "execution_count": 14,
      "metadata": {},
      "outputs": [
        {
          "data": {
            "text/plain": [
              "'car road vehicle, typically with four wheels, powered internal combustion engine electric motor, and able carry small number people'"
            ]
          },
          "execution_count": 14,
          "metadata": {},
          "output_type": "execute_result"
        }
      ],
      "source": [
        "# --- DO NOT CHANGE HERE ---\n",
        "remove_short_words(text=\"A car is a road vehicle, typically with four wheels, powered by an internal combustion engine or electric motor, and able to carry a small number of people\", min_length=2)\n",
        "\n",
        "# --- DO NOT CHANGE HERE ---"
      ]
    },
    {
      "cell_type": "markdown",
      "metadata": {},
      "source": [
        "### Câu 6: Hàm tiền xử lý dữ liệu\n",
        "\n",
        "**Mô tả:** Viết hàm `preprocess_text` để thực hiện tất cả các bước tiền xử lý dữ liệu ở trên. Sau đó áp dụng hàm này cho cột `question_title` trong DataFrame và lưu kết quả vào cột mới `processed_question_title`"
      ]
    },
    {
      "cell_type": "code",
      "execution_count": 15,
      "metadata": {},
      "outputs": [],
      "source": [
        "# Hàm tiền xử lý dữ liệu\n",
        "def preprocess_text(text: str) -> str:\n",
        "    \"\"\"\n",
        "    Tiền xử lý văn bản bao gồm các bước:\n",
        "    1. Loại bỏ các ký tự đặc biệt, chữ số, khoảng trắng thừa\n",
        "    2. Chuyển chữ in hoa thành in thường\n",
        "    3. Lemmatization\n",
        "    4. Xoá các từ có độ dài ngắn (ví dụ: <= 2 ký tự)\n",
        "    \"\"\"\n",
        "\n",
        "    ### YOUR CODE HERE\n",
        "    text = regex(text)\n",
        "    text = text_lowercase(text)\n",
        "    text = lemmatization(text)\n",
        "    text = remove_short_words(text)\n",
        "\n",
        "    return text\n",
        "    ### YOUR CODE HERE"
      ]
    },
    {
      "cell_type": "code",
      "execution_count": 16,
      "metadata": {},
      "outputs": [
        {
          "data": {
            "text/plain": [
              "'million people die car accidents every year'"
            ]
          },
          "execution_count": 16,
          "metadata": {},
          "output_type": "execute_result"
        }
      ],
      "source": [
        "# --- DO NOT CHANGE HERE ---\n",
        "preprocess_text(text=\"1.3_Million people    die in a car accidents every year\")\n",
        "\n",
        "# --- DO NOT CHANGE HERE ---"
      ]
    },
    {
      "cell_type": "code",
      "execution_count": 17,
      "metadata": {
        "id": "GHsVlyH0paRW"
      },
      "outputs": [],
      "source": [
        "# Sử dụng hàm tiền xử lý dữ liệu để tiền xử lý cột \"question_title\"\n",
        "\n",
        "def preprocess_data(df: pd.DataFrame) -> pd.DataFrame:\n",
        "    \"\"\"\n",
        "    Tiền xử lý cột \"question_title\" trong DataFrame\n",
        "    Args:\n",
        "        df (pd.DataFrame): Dữ liệu đầu vào, gồm các cột 'Unnamed: 0', 'question_title', 'question_type'\n",
        "    Returns:\n",
        "        pd.DataFrame: Dữ liệu đã được tiền xử lý, thêm cột 'processed_question_title'\n",
        "    \"\"\"\n",
        "    ### YOUR CODE HERE\n",
        "\n",
        "    df[\"processed_question_title\"] = df[\"question_title\"].apply(func=preprocess_text)\n",
        "\n",
        "    return df\n",
        "    ### YOUR CODE HERE"
      ]
    },
    {
      "cell_type": "code",
      "execution_count": 18,
      "metadata": {},
      "outputs": [
        {
          "data": {
            "application/vnd.microsoft.datawrangler.viewer.v0+json": {
              "columns": [
                {
                  "name": "index",
                  "rawType": "int64",
                  "type": "integer"
                },
                {
                  "name": "Unnamed: 0",
                  "rawType": "int64",
                  "type": "integer"
                },
                {
                  "name": "question_title",
                  "rawType": "object",
                  "type": "string"
                },
                {
                  "name": "question_type",
                  "rawType": "int64",
                  "type": "integer"
                },
                {
                  "name": "processed_question_title",
                  "rawType": "object",
                  "type": "string"
                }
              ],
              "ref": "328c43f6-1f86-42bc-9515-feaae7a77dca",
              "rows": [
                [
                  "0",
                  "0",
                  "What are metaclasses in Python?",
                  "0",
                  "what metaclasses python"
                ],
                [
                  "1",
                  "1",
                  "Hidden features of Python",
                  "0",
                  "hide feature python"
                ],
                [
                  "2",
                  "2",
                  "What is the effect of extern \"C\" in C++?",
                  "0",
                  "what the effect extern"
                ],
                [
                  "3",
                  "3",
                  "When should I use Cross Apply over Inner Join?",
                  "0",
                  "when should use cross apply over inner join"
                ],
                [
                  "4",
                  "4",
                  "Embedding Base64 Images",
                  "0",
                  "embed base image"
                ]
              ],
              "shape": {
                "columns": 4,
                "rows": 5
              }
            },
            "text/html": [
              "<div>\n",
              "<style scoped>\n",
              "    .dataframe tbody tr th:only-of-type {\n",
              "        vertical-align: middle;\n",
              "    }\n",
              "\n",
              "    .dataframe tbody tr th {\n",
              "        vertical-align: top;\n",
              "    }\n",
              "\n",
              "    .dataframe thead th {\n",
              "        text-align: right;\n",
              "    }\n",
              "</style>\n",
              "<table border=\"1\" class=\"dataframe\">\n",
              "  <thead>\n",
              "    <tr style=\"text-align: right;\">\n",
              "      <th></th>\n",
              "      <th>Unnamed: 0</th>\n",
              "      <th>question_title</th>\n",
              "      <th>question_type</th>\n",
              "      <th>processed_question_title</th>\n",
              "    </tr>\n",
              "  </thead>\n",
              "  <tbody>\n",
              "    <tr>\n",
              "      <th>0</th>\n",
              "      <td>0</td>\n",
              "      <td>What are metaclasses in Python?</td>\n",
              "      <td>0</td>\n",
              "      <td>what metaclasses python</td>\n",
              "    </tr>\n",
              "    <tr>\n",
              "      <th>1</th>\n",
              "      <td>1</td>\n",
              "      <td>Hidden features of Python</td>\n",
              "      <td>0</td>\n",
              "      <td>hide feature python</td>\n",
              "    </tr>\n",
              "    <tr>\n",
              "      <th>2</th>\n",
              "      <td>2</td>\n",
              "      <td>What is the effect of extern \"C\" in C++?</td>\n",
              "      <td>0</td>\n",
              "      <td>what the effect extern</td>\n",
              "    </tr>\n",
              "    <tr>\n",
              "      <th>3</th>\n",
              "      <td>3</td>\n",
              "      <td>When should I use Cross Apply over Inner Join?</td>\n",
              "      <td>0</td>\n",
              "      <td>when should use cross apply over inner join</td>\n",
              "    </tr>\n",
              "    <tr>\n",
              "      <th>4</th>\n",
              "      <td>4</td>\n",
              "      <td>Embedding Base64 Images</td>\n",
              "      <td>0</td>\n",
              "      <td>embed base image</td>\n",
              "    </tr>\n",
              "  </tbody>\n",
              "</table>\n",
              "</div>"
            ],
            "text/plain": [
              "   Unnamed: 0                                  question_title  question_type  \\\n",
              "0           0                 What are metaclasses in Python?              0   \n",
              "1           1                       Hidden features of Python              0   \n",
              "2           2        What is the effect of extern \"C\" in C++?              0   \n",
              "3           3  When should I use Cross Apply over Inner Join?              0   \n",
              "4           4                         Embedding Base64 Images              0   \n",
              "\n",
              "                      processed_question_title  \n",
              "0                      what metaclasses python  \n",
              "1                          hide feature python  \n",
              "2                       what the effect extern  \n",
              "3  when should use cross apply over inner join  \n",
              "4                             embed base image  "
            ]
          },
          "execution_count": 18,
          "metadata": {},
          "output_type": "execute_result"
        }
      ],
      "source": [
        "# --- DO NOT CHANGE HERE ---\n",
        "process_df = preprocess_data(df=data)\n",
        "\n",
        "# Print 5 rows of processed data\n",
        "process_df.head()\n",
        "\n",
        "# --- DO NOT CHANGE HERE ---"
      ]
    },
    {
      "cell_type": "markdown",
      "metadata": {
        "id": "FIgNlfcLpZ3t"
      },
      "source": [
        "## 3. Trích rút thông tin\n",
        "\n",
        "**Mô tả:** Sử dụng TF-IDF để chuyển đổi tiêu đề thành các đặc trưng số"
      ]
    },
    {
      "cell_type": "markdown",
      "metadata": {},
      "source": [
        "### Câu 7: Định nghĩa vectorizer\n",
        "\n",
        "**Mô tả:** Sử dụng một trong các kỹ thuật trích xuất đặc trưng để trích xuất đặc trưng của `question_title` (Text embedding)\n"
      ]
    },
    {
      "cell_type": "code",
      "execution_count": 19,
      "metadata": {},
      "outputs": [],
      "source": [
        "from typing import Tuple, Any\n",
        "\n",
        "def define_vectorizer() -> Any:\n",
        "    \"\"\"\n",
        "    Định nghĩa đối tượng vectorizer để trích xuất đặc trưng văn bản\n",
        "    (Có thể sử dụng CountVectorizer, TfidfVectorizer, Word2Vec, FastText, GloVe,...)\n",
        "    Returns:\n",
        "        Any: Đối tượng vectorizer đã được định nghĩa\n",
        "    \"\"\"\n",
        "    ### YOUR CODE HERE\n",
        "    from sklearn.feature_extraction.text import TfidfVectorizer\n",
        "\n",
        "    vectorizer = TfidfVectorizer(max_features=2000)\n",
        "\n",
        "    return vectorizer\n",
        "    ### YOUR CODE HERE"
      ]
    },
    {
      "cell_type": "code",
      "execution_count": 20,
      "metadata": {},
      "outputs": [
        {
          "name": "stdout",
          "output_type": "stream",
          "text": [
            "Vectorizer: TfidfVectorizer(max_features=2000)\n",
            "Sample features shape: (2, 7)\n"
          ]
        }
      ],
      "source": [
        "# --- DO NOT CHANGE HERE ---\n",
        "\n",
        "test_vectorizer = define_vectorizer()\n",
        "print(f\"Vectorizer: {test_vectorizer}\")\n",
        "\n",
        "# Test sample text and fit transform\n",
        "sample_texts = [\"This is a sample text\", \"Another sample text for testing\"]\n",
        "sample_features = test_vectorizer.fit_transform(sample_texts)\n",
        "print(f\"Sample features shape: {sample_features.shape}\")\n",
        "\n",
        "# --- DO NOT CHANGE HERE ---"
      ]
    },
    {
      "cell_type": "markdown",
      "metadata": {
        "id": "YuEPKaTGsd6P"
      },
      "source": [
        "## 4. Huấn luyện và đánh giá mô hình\n",
        "\n",
        "**Mô tả:** \n",
        "- Huấn luyện và đánh giá mô hình phân lớp đối với 3 loại: \"hướng dẫn\", \"khái niệm\" và \"sửa lỗi\"\n",
        "- Do số lượng data ít (<1000) nên sử dụng K-fold với n_fold = 10 để đánh giá mô hình\n",
        "\n",
        "> Gợi ý: Có thể sử dụng các mô hình như Logistic Regression, SVM, Random Forest, Neural Networks\n"
      ]
    },
    {
      "cell_type": "markdown",
      "metadata": {},
      "source": [
        "### Câu 8: Xây dựng mô hình để phân loại tiêu đề\n",
        "\n",
        "**Mô tả:** \n",
        "- Xây dựng mô hình phân lớp để phân loại tiêu đề StackOverflow thành 3 loại: \"hướng dẫn\", \"khái niệm\" và \"sửa lỗi\". \n",
        "- Sử dụng K-fold cross-validation với n_fold = 10 để đánh giá mô hình. In ra các chỉ số đánh giá như accuracy, precision, recall và F1-score cho mỗi fold và trung bình các chỉ số này sau tất cả các fold."
      ]
    },
    {
      "cell_type": "code",
      "execution_count": 21,
      "metadata": {},
      "outputs": [],
      "source": [
        "from typing import Any\n",
        "\n",
        "def define_classifier() -> Any:\n",
        "    \"\"\"\n",
        "    Xây dựng và trả về một mô hình phân loại (classifier)\n",
        "    Gợi ý: Mô hình có thể sử dụng Logistic Regression, SVM, Random Forest, Neural Networks,...\n",
        "\n",
        "    Returns:\n",
        "        Any: Mô hình phân loại (trả về một đối tượng mô hình đã được khởi tạo)\n",
        "    \"\"\"\n",
        "\n",
        "    ### YOUR CODE HERE\n",
        "    from sklearn.linear_model import LogisticRegression\n",
        "\n",
        "    classifier = LogisticRegression(max_iter=1000, random_state=42, multi_class='ovr')\n",
        "\n",
        "    return classifier\n",
        "    ### YOUR CODE HERE"
      ]
    },
    {
      "cell_type": "code",
      "execution_count": 22,
      "metadata": {},
      "outputs": [
        {
          "name": "stdout",
          "output_type": "stream",
          "text": [
            "LogisticRegression(max_iter=1000, multi_class='ovr', random_state=42)\n"
          ]
        }
      ],
      "source": [
        "# --- DO NOT CHANGE HERE ---\n",
        "classifier = define_classifier()\n",
        "\n",
        "print(classifier)\n",
        "# --- DO NOT CHANGE HERE ---"
      ]
    },
    {
      "cell_type": "markdown",
      "metadata": {
        "id": "c_clE4vmyoRr"
      },
      "source": [
        "### Câu 9: Huấn luyện và đánh giá mô hình bằng K-fold cross-validation\n",
        "\n",
        "**Mô tả:** Với mô hình đã xây dựng ở [Câu 8](#câu-8-xây-dựng-mô-hình-để-phân-loại-tiêu-đề), sử dụng K-fold cross-validation với n_fold = 10 để đánh giá mô hình. In ra các chỉ số đánh giá như accuracy, precision, recall và F1-score cho mỗi fold và trung bình các chỉ số này sau tất cả các fold."
      ]
    },
    {
      "cell_type": "code",
      "execution_count": 23,
      "metadata": {
        "id": "3DFE9JqQynoI"
      },
      "outputs": [],
      "source": [
        "import numpy as np\n",
        "import warnings\n",
        "warnings.filterwarnings(\"ignore\")\n",
        "from sklearn.model_selection import KFold\n",
        "from sklearn.metrics import accuracy_score, precision_score, recall_score, f1_score\n",
        "\n",
        "# --- DO NOT CHANGE HERE ---\n",
        "kf = KFold(n_splits=10, shuffle=True, random_state=42)\n",
        "\n",
        "# --- DO NOT CHANGE HERE ---\n",
        "\n",
        "def train_and_evaluate_model(vectorizer: Any, classifier: Any, X_text: pd.Series, y: pd.Series) -> None:\n",
        "    \"\"\"\n",
        "    Huấn luyện và đánh giá mô hình sử dụng K-fold cross-validation\n",
        "    Args:\n",
        "        vectorizer (Any): Đối tượng vectorizer đã được định nghĩa\n",
        "        classifier (Any): Mô hình phân loại (đối tượng mô hình đã được khởi tạo)\n",
        "        X_text (pd.Series): Dữ liệu đầu vào (cột 'processed_question_title')\n",
        "        y (pd.Series): Nhãn (cột 'question_type')\n",
        "    \"\"\"\n",
        "    # --- DO NOT CHANGE HERE ---\n",
        "    fold_accuracies = []\n",
        "    fold_precisions = []\n",
        "    fold_recalls = []\n",
        "    fold_f1s = []\n",
        "    # --- DO NOT CHANGE HERE ---\n",
        "\n",
        "\n",
        "    ### YOUR CODE HERE\n",
        "    for fold, (train_index, test_index) in enumerate(kf.split(X=X_text)):\n",
        "        X_train_text, X_test_text = X_text.iloc[train_index], X_text.iloc[test_index]\n",
        "        y_train, y_test = y.iloc[train_index], y.iloc[test_index]\n",
        "\n",
        "        X_train = vectorizer.fit_transform(X_train_text)\n",
        "        X_test = vectorizer.transform(X_test_text)\n",
        "\n",
        "        classifier.fit(X_train, y_train)\n",
        "        y_pred = classifier.predict(X_test)\n",
        "\n",
        "        accuracy = accuracy_score(y_test, y_pred)\n",
        "        precision = precision_score(y_test, y_pred, average='weighted', zero_division=0)\n",
        "        recall = recall_score(y_test, y_pred, average='weighted', zero_division=0)\n",
        "        f1 = f1_score(y_test, y_pred, average='weighted', zero_division=0)\n",
        "\n",
        "        fold_accuracies.append(accuracy)\n",
        "        fold_precisions.append(precision)\n",
        "        fold_recalls.append(recall)\n",
        "        fold_f1s.append(f1)\n",
        "\n",
        "        print(f\"Fold {fold + 1}:\")\n",
        "        print(f\"  Accuracy: {accuracy:.4f}\")\n",
        "        print(f\"  Precision: {precision:.4f}\")\n",
        "        print(f\"  Recall: {recall:.4f}\")\n",
        "        print(f\"  F1-score: {f1:.4f}\")\n",
        "\n",
        "    ### YOUR CODE HERE\n",
        "\n",
        "\n",
        "    # --- DO NOT CHANGE HERE ---\n",
        "    avg_accuracy = np.mean(fold_accuracies)\n",
        "    avg_precision = np.mean(fold_precisions)\n",
        "    avg_recall = np.mean(fold_recalls)\n",
        "    avg_f1 = np.mean(fold_f1s)\n",
        "\n",
        "    print(f\"Kết quả trung bình sau 10 folds:\")\n",
        "    print(f\"  - Accuracy: {avg_accuracy:.4f}\")\n",
        "    print(f\"  - Precision: {avg_precision:.4f}\")\n",
        "    print(f\"  - Recall: {avg_recall:.4f}\")\n",
        "    print(f\"  - F1-Score: {avg_f1:.4f}\\n\")\n",
        "    # --- DO NOT CHANGE HERE ---"
      ]
    },
    {
      "cell_type": "code",
      "execution_count": 24,
      "metadata": {},
      "outputs": [
        {
          "name": "stdout",
          "output_type": "stream",
          "text": [
            "Fold 1:\n",
            "  Accuracy: 0.6092\n",
            "  Precision: 0.6203\n",
            "  Recall: 0.6092\n",
            "  F1-score: 0.6070\n",
            "Fold 2:\n",
            "  Accuracy: 0.6667\n",
            "  Precision: 0.6686\n",
            "  Recall: 0.6667\n",
            "  F1-score: 0.6625\n",
            "Fold 3:\n",
            "  Accuracy: 0.6322\n",
            "  Precision: 0.6348\n",
            "  Recall: 0.6322\n",
            "  F1-score: 0.6178\n",
            "Fold 4:\n",
            "  Accuracy: 0.6897\n",
            "  Precision: 0.7006\n",
            "  Recall: 0.6897\n",
            "  F1-score: 0.6902\n",
            "Fold 5:\n",
            "  Accuracy: 0.6897\n",
            "  Precision: 0.6917\n",
            "  Recall: 0.6897\n",
            "  F1-score: 0.6859\n",
            "Fold 6:\n",
            "  Accuracy: 0.7011\n",
            "  Precision: 0.6984\n",
            "  Recall: 0.7011\n",
            "  F1-score: 0.6981\n",
            "Fold 7:\n",
            "  Accuracy: 0.7209\n",
            "  Precision: 0.7338\n",
            "  Recall: 0.7209\n",
            "  F1-score: 0.7239\n",
            "Fold 8:\n",
            "  Accuracy: 0.5814\n",
            "  Precision: 0.6172\n",
            "  Recall: 0.5814\n",
            "  F1-score: 0.5664\n",
            "Fold 9:\n",
            "  Accuracy: 0.5930\n",
            "  Precision: 0.6052\n",
            "  Recall: 0.5930\n",
            "  F1-score: 0.5807\n",
            "Fold 10:\n",
            "  Accuracy: 0.5814\n",
            "  Precision: 0.6152\n",
            "  Recall: 0.5814\n",
            "  F1-score: 0.5806\n",
            "Kết quả trung bình sau 10 folds:\n",
            "  - Accuracy: 0.6465\n",
            "  - Precision: 0.6586\n",
            "  - Recall: 0.6465\n",
            "  - F1-Score: 0.6413\n",
            "\n"
          ]
        }
      ],
      "source": [
        "# --- DO NOT CHANGE HERE ---\n",
        "vectorizer = define_vectorizer()\n",
        "X = process_df['processed_question_title']\n",
        "y = process_df['question_type']\n",
        "\n",
        "train_and_evaluate_model(vectorizer=vectorizer, classifier=classifier, X_text=X, y=y)\n",
        "# --- DO NOT CHANGE HERE ---"
      ]
    },
    {
      "cell_type": "markdown",
      "metadata": {},
      "source": [
        "## 5. Lưu mô hình và vectorizer"
      ]
    },
    {
      "cell_type": "code",
      "execution_count": 25,
      "metadata": {},
      "outputs": [
        {
          "name": "stdout",
          "output_type": "stream",
          "text": [
            "Model saved to 'saved_model\\text_classifier.sav'\n",
            "Vectorizer saved to 'saved_model\\tfidf_vectorizer.sav'\n"
          ]
        }
      ],
      "source": [
        "import pickle\n",
        "import os\n",
        "\n",
        "# --- DO NOT CHANGE HERE ---\n",
        "MODEL_DIR = \"saved_model\"\n",
        "if not os.path.exists(MODEL_DIR):\n",
        "    os.makedirs(MODEL_DIR)\n",
        "\n",
        "MODEL_PATH = os.path.join(MODEL_DIR, \"text_classifier.sav\")\n",
        "VECTORIZER_PATH = os.path.join(MODEL_DIR, \"tfidf_vectorizer.sav\")\n",
        "\n",
        "# Save model\n",
        "pickle.dump(classifier, open(MODEL_PATH, 'wb'))\n",
        "print(f\"Model saved to '{MODEL_PATH}'\")\n",
        "\n",
        "# Save vectorizer\n",
        "pickle.dump(vectorizer, open(VECTORIZER_PATH, 'wb'))\n",
        "print(f\"Vectorizer saved to '{VECTORIZER_PATH}'\")\n",
        "\n",
        "# --- DO NOT CHANGE HERE ---"
      ]
    },
    {
      "cell_type": "markdown",
      "metadata": {},
      "source": [
        "## 6. Sử dụng mô hình để dự đoán tiêu đề mới"
      ]
    },
    {
      "cell_type": "markdown",
      "metadata": {},
      "source": [
        "### Câu 10: Dự đoán nhãn cho các tiêu đề mới"
      ]
    },
    {
      "cell_type": "code",
      "execution_count": 26,
      "metadata": {},
      "outputs": [],
      "source": [
        "LABEL_MAP = {\n",
        "    0: \"khái niệm\",\n",
        "    1: \"hướng dẫn\",\n",
        "    2: \"sửa lỗi\"\n",
        "}\n",
        "\n",
        "from typing import List\n",
        "\n",
        "def infer_titles(titles: List[str]) -> List[str]:\n",
        "    \"\"\"\n",
        "    Sử dụng mô hình đã lưu để dự đoán nhãn của tiêu đề mới\n",
        "    Args:\n",
        "        titles (List[str]): Danh sách tiêu đề mới cần dự đoán\n",
        "    Returns:\n",
        "        List[str]: Danh sách nhãn dự đoán tương ứng với các tiêu đề\n",
        "    \"\"\"\n",
        "    ### YOUR CODE HERE\n",
        "    processed_title = [preprocess_text(title) for title in titles]\n",
        "    pred_labels = classifier.predict(vectorizer.transform(processed_title))\n",
        "    pred_label_names = [LABEL_MAP[label] for label in pred_labels]\n",
        "\n",
        "    return pred_label_names\n",
        "\n",
        "    ### YOUR CODE HERE"
      ]
    },
    {
      "cell_type": "code",
      "execution_count": 27,
      "metadata": {},
      "outputs": [
        {
          "name": "stdout",
          "output_type": "stream",
          "text": [
            "Predicted labels: ['hướng dẫn', 'sửa lỗi', 'hướng dẫn', 'khái niệm', 'sửa lỗi']\n"
          ]
        }
      ],
      "source": [
        "# --- DO NOT CHANGE HERE ---\n",
        "TEST_TITLE = [\n",
        "    \"scikit-learn random state in splitting dataset\",\n",
        "    \"Could not build wheels for tokenizers, which is required to install pyproject.toml-based projects\",\n",
        "    \"how to learn from each fold in the k-fold cross validation?\"\n",
        "    \"How to install tensorflow on windows 11\",\n",
        "    \"what is the difference between list and tuple in python\",\n",
        "    \"getting valueerror could not broadcast input array from shape\"\n",
        "]\n",
        "\n",
        "pred_labels = infer_titles(titles=TEST_TITLE)\n",
        "print(\"Predicted labels:\", pred_labels)\n",
        "\n",
        "# --- DO NOT CHANGE HERE ---"
      ]
    },
    {
      "cell_type": "code",
      "execution_count": null,
      "metadata": {},
      "outputs": [],
      "source": []
    }
  ],
  "metadata": {
    "colab": {
      "provenance": []
    },
    "kernelspec": {
      "display_name": "myenv",
      "language": "python",
      "name": "python3"
    },
    "language_info": {
      "codemirror_mode": {
        "name": "ipython",
        "version": 3
      },
      "file_extension": ".py",
      "mimetype": "text/x-python",
      "name": "python",
      "nbconvert_exporter": "python",
      "pygments_lexer": "ipython3",
      "version": "3.11.13"
    }
  },
  "nbformat": 4,
  "nbformat_minor": 0
}
