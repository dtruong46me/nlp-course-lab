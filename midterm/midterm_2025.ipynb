{
  "cells": [
    {
      "cell_type": "markdown",
      "metadata": {
        "id": "a8Fj49w7S-2U"
      },
      "source": [
        "# Midterm 2025\n",
        "\n",
        "1. **Mục tiêu:** Xây dựng mô hình phân lớp tiêu đề StackOverflow *(Phân lớp văn bản)* cho 3 loại: \"hướng dẫn\", \"khái niệm\" và \"sửa lỗi\".\n",
        "\n",
        "2. **Yêu cầu:**\n",
        "    - **Xử lý dữ liệu:**\n",
        "        - Làm sạch dữ liệu (loại bỏ ký tự đặc biệt, chuyển về chữ thường, v.v.)\n",
        "        - Chia dữ liệu thành tập huấn luyện, tập kiểm tra và tập xác thực\n",
        "    - **Trích rút thông tin:**\n",
        "        - Sử dụng các kỹ thuật như Bag of Words, TF-IDF hoặc Word Embeddings để chuyển đổi tiêu đề thành các đặc trưng số\n",
        "    - **Huấn luyện và đánh giá mô hình:**\n",
        "        - Chọn và huấn luyện các mô hình phân lớp (ví dụ: Logistic Regression, SVM, Random Forest, Neural Networks)\n",
        "        - Đánh giá mô hình sử dụng các chỉ số như độ chính xác, độ nhạy, độ đặc hiệu và F1-score\n",
        "        - So sánh hiệu suất của các mô hình khác nhau và chọn mô hình tốt nhất\n",
        "\n",
        "3. **Dữ liệu:** Sử dụng tập dữ liệu tiêu đề StackOverflow đã được gán nhãn sẵn tại link: https://drive.google.com/uc?id=1ef8DpctKSDpQEZz5icfrKb9yk-b-jyWF\n",
        "\n",
        "    Mô tả dữ liệu:\n",
        "    - File: `question_title.csv`\n",
        "    - Cột:\n",
        "    - `title`: Tiêu đề câu hỏi\n",
        "    - `label`: Nhãn phân loại (hướng dẫn, khái niệm, sửa lỗi)\n",
        "    - Số lượng tiêu đề: 866 tiêu đề\n",
        "\n",
        "4. **Hướng dẫn làm bài:**\n",
        "    - Hoàn thành các câu hỏi trong notebook `midterm_2025.ipynb`\n",
        "    - Hoàn thành code trong `### YOUR CODE HERE ###`\n",
        "    - Không thay đổi các phần `# --- DO NOT CHANGE HERE ---` và `# --- IGNORE ---`"
      ]
    },
    {
      "cell_type": "markdown",
      "metadata": {
        "id": "rVs7lkFFw7bN"
      },
      "source": [
        "## 0. Cài đặt thư viện, dữ liệu"
      ]
    },
    {
      "cell_type": "code",
      "execution_count": 97,
      "metadata": {
        "id": "6chFj0WRw7bP"
      },
      "outputs": [],
      "source": [
        "!pip install -q gdown scikit-learn"
      ]
    },
    {
      "cell_type": "code",
      "execution_count": 98,
      "metadata": {
        "colab": {
          "base_uri": "https://localhost:8080/"
        },
        "id": "SHUkqoJsw7bT",
        "outputId": "237ffe0b-4eda-4e5e-b7dd-a8987e997d54"
      },
      "outputs": [
        {
          "name": "stdout",
          "output_type": "stream",
          "text": [
            "Downloading...\n",
            "From: https://drive.google.com/uc?id=1ef8DpctKSDpQEZz5icfrKb9yk-b-jyWF\n",
            "To: /content/question_title.csv\n",
            "\r  0% 0.00/52.0k [00:00<?, ?B/s]\r100% 52.0k/52.0k [00:00<00:00, 66.9MB/s]\n"
          ]
        }
      ],
      "source": [
        "# Download dữ liệu\n",
        "!gdown https://drive.google.com/uc?id=1ef8DpctKSDpQEZz5icfrKb9yk-b-jyWF"
      ]
    },
    {
      "cell_type": "markdown",
      "metadata": {
        "id": "Z1Er6eCYYwgh"
      },
      "source": [
        "## 1. Đọc dữ liệu"
      ]
    },
    {
      "cell_type": "markdown",
      "metadata": {
        "id": "Q0wzaXMkw7bY"
      },
      "source": [
        "### Câu 1: Đọc dữ liệu & Thống kê dữ liệu\n",
        "\n",
        "**Mô tả:** Đọc dữ liệu từ file `question_title.csv` và hiển thị 5 dòng đầu tiên của dữ liệu"
      ]
    },
    {
      "cell_type": "code",
      "execution_count": null,
      "metadata": {
        "id": "Y927zGd3YuV3"
      },
      "outputs": [],
      "source": [
        "import pandas as pd\n",
        "\n",
        "def read_data(file_path: str) -> pd.DataFrame:\n",
        "    \"\"\"\n",
        "    Đọc dữ liệu từ file CSV\n",
        "    Args:\n",
        "        file_path (str): Đường dẫn tới file CSV\n",
        "    Returns:\n",
        "        pd.DataFrame: Dữ liệu được đọc từ file\n",
        "    \"\"\"\n",
        "    ### YOUR CODE HERE\n",
        "\n",
        "    ### YOUR CODE HERE"
      ]
    },
    {
      "cell_type": "code",
      "execution_count": 100,
      "metadata": {
        "colab": {
          "base_uri": "https://localhost:8080/",
          "height": 224
        },
        "id": "mcX1SCv-w7bb",
        "outputId": "a21602d0-7d43-43f1-9f16-6948f9379c3c"
      },
      "outputs": [
        {
          "name": "stdout",
          "output_type": "stream",
          "text": [
            "Columns: Index(['Unnamed: 0', 'question_title', 'question_type'], dtype='object')\n"
          ]
        },
        {
          "data": {
            "application/vnd.google.colaboratory.intrinsic+json": {
              "summary": "{\n  \"name\": \"# --- DO NOT CHANGE HERE ---\",\n  \"rows\": 5,\n  \"fields\": [\n    {\n      \"column\": \"Unnamed: 0\",\n      \"properties\": {\n        \"dtype\": \"number\",\n        \"std\": 1,\n        \"min\": 0,\n        \"max\": 4,\n        \"num_unique_values\": 5,\n        \"samples\": [\n          1,\n          4,\n          2\n        ],\n        \"semantic_type\": \"\",\n        \"description\": \"\"\n      }\n    },\n    {\n      \"column\": \"question_title\",\n      \"properties\": {\n        \"dtype\": \"string\",\n        \"num_unique_values\": 5,\n        \"samples\": [\n          \"Hidden features of Python\",\n          \"Embedding Base64 Images\",\n          \"What is the effect of extern \\\"C\\\" in C++?\"\n        ],\n        \"semantic_type\": \"\",\n        \"description\": \"\"\n      }\n    },\n    {\n      \"column\": \"question_type\",\n      \"properties\": {\n        \"dtype\": \"number\",\n        \"std\": 0,\n        \"min\": 0,\n        \"max\": 0,\n        \"num_unique_values\": 1,\n        \"samples\": [\n          0\n        ],\n        \"semantic_type\": \"\",\n        \"description\": \"\"\n      }\n    }\n  ]\n}",
              "type": "dataframe"
            },
            "text/html": [
              "\n",
              "  <div id=\"df-2d720062-9974-4e34-b4e3-de5bc1a50485\" class=\"colab-df-container\">\n",
              "    <div>\n",
              "<style scoped>\n",
              "    .dataframe tbody tr th:only-of-type {\n",
              "        vertical-align: middle;\n",
              "    }\n",
              "\n",
              "    .dataframe tbody tr th {\n",
              "        vertical-align: top;\n",
              "    }\n",
              "\n",
              "    .dataframe thead th {\n",
              "        text-align: right;\n",
              "    }\n",
              "</style>\n",
              "<table border=\"1\" class=\"dataframe\">\n",
              "  <thead>\n",
              "    <tr style=\"text-align: right;\">\n",
              "      <th></th>\n",
              "      <th>Unnamed: 0</th>\n",
              "      <th>question_title</th>\n",
              "      <th>question_type</th>\n",
              "    </tr>\n",
              "  </thead>\n",
              "  <tbody>\n",
              "    <tr>\n",
              "      <th>0</th>\n",
              "      <td>0</td>\n",
              "      <td>What are metaclasses in Python?</td>\n",
              "      <td>0</td>\n",
              "    </tr>\n",
              "    <tr>\n",
              "      <th>1</th>\n",
              "      <td>1</td>\n",
              "      <td>Hidden features of Python</td>\n",
              "      <td>0</td>\n",
              "    </tr>\n",
              "    <tr>\n",
              "      <th>2</th>\n",
              "      <td>2</td>\n",
              "      <td>What is the effect of extern \"C\" in C++?</td>\n",
              "      <td>0</td>\n",
              "    </tr>\n",
              "    <tr>\n",
              "      <th>3</th>\n",
              "      <td>3</td>\n",
              "      <td>When should I use Cross Apply over Inner Join?</td>\n",
              "      <td>0</td>\n",
              "    </tr>\n",
              "    <tr>\n",
              "      <th>4</th>\n",
              "      <td>4</td>\n",
              "      <td>Embedding Base64 Images</td>\n",
              "      <td>0</td>\n",
              "    </tr>\n",
              "  </tbody>\n",
              "</table>\n",
              "</div>\n",
              "    <div class=\"colab-df-buttons\">\n",
              "\n",
              "  <div class=\"colab-df-container\">\n",
              "    <button class=\"colab-df-convert\" onclick=\"convertToInteractive('df-2d720062-9974-4e34-b4e3-de5bc1a50485')\"\n",
              "            title=\"Convert this dataframe to an interactive table.\"\n",
              "            style=\"display:none;\">\n",
              "\n",
              "  <svg xmlns=\"http://www.w3.org/2000/svg\" height=\"24px\" viewBox=\"0 -960 960 960\">\n",
              "    <path d=\"M120-120v-720h720v720H120Zm60-500h600v-160H180v160Zm220 220h160v-160H400v160Zm0 220h160v-160H400v160ZM180-400h160v-160H180v160Zm440 0h160v-160H620v160ZM180-180h160v-160H180v160Zm440 0h160v-160H620v160Z\"/>\n",
              "  </svg>\n",
              "    </button>\n",
              "\n",
              "  <style>\n",
              "    .colab-df-container {\n",
              "      display:flex;\n",
              "      gap: 12px;\n",
              "    }\n",
              "\n",
              "    .colab-df-convert {\n",
              "      background-color: #E8F0FE;\n",
              "      border: none;\n",
              "      border-radius: 50%;\n",
              "      cursor: pointer;\n",
              "      display: none;\n",
              "      fill: #1967D2;\n",
              "      height: 32px;\n",
              "      padding: 0 0 0 0;\n",
              "      width: 32px;\n",
              "    }\n",
              "\n",
              "    .colab-df-convert:hover {\n",
              "      background-color: #E2EBFA;\n",
              "      box-shadow: 0px 1px 2px rgba(60, 64, 67, 0.3), 0px 1px 3px 1px rgba(60, 64, 67, 0.15);\n",
              "      fill: #174EA6;\n",
              "    }\n",
              "\n",
              "    .colab-df-buttons div {\n",
              "      margin-bottom: 4px;\n",
              "    }\n",
              "\n",
              "    [theme=dark] .colab-df-convert {\n",
              "      background-color: #3B4455;\n",
              "      fill: #D2E3FC;\n",
              "    }\n",
              "\n",
              "    [theme=dark] .colab-df-convert:hover {\n",
              "      background-color: #434B5C;\n",
              "      box-shadow: 0px 1px 3px 1px rgba(0, 0, 0, 0.15);\n",
              "      filter: drop-shadow(0px 1px 2px rgba(0, 0, 0, 0.3));\n",
              "      fill: #FFFFFF;\n",
              "    }\n",
              "  </style>\n",
              "\n",
              "    <script>\n",
              "      const buttonEl =\n",
              "        document.querySelector('#df-2d720062-9974-4e34-b4e3-de5bc1a50485 button.colab-df-convert');\n",
              "      buttonEl.style.display =\n",
              "        google.colab.kernel.accessAllowed ? 'block' : 'none';\n",
              "\n",
              "      async function convertToInteractive(key) {\n",
              "        const element = document.querySelector('#df-2d720062-9974-4e34-b4e3-de5bc1a50485');\n",
              "        const dataTable =\n",
              "          await google.colab.kernel.invokeFunction('convertToInteractive',\n",
              "                                                    [key], {});\n",
              "        if (!dataTable) return;\n",
              "\n",
              "        const docLinkHtml = 'Like what you see? Visit the ' +\n",
              "          '<a target=\"_blank\" href=https://colab.research.google.com/notebooks/data_table.ipynb>data table notebook</a>'\n",
              "          + ' to learn more about interactive tables.';\n",
              "        element.innerHTML = '';\n",
              "        dataTable['output_type'] = 'display_data';\n",
              "        await google.colab.output.renderOutput(dataTable, element);\n",
              "        const docLink = document.createElement('div');\n",
              "        docLink.innerHTML = docLinkHtml;\n",
              "        element.appendChild(docLink);\n",
              "      }\n",
              "    </script>\n",
              "  </div>\n",
              "\n",
              "\n",
              "    <div id=\"df-301454cf-df90-4b41-824b-f72abb00b098\">\n",
              "      <button class=\"colab-df-quickchart\" onclick=\"quickchart('df-301454cf-df90-4b41-824b-f72abb00b098')\"\n",
              "                title=\"Suggest charts\"\n",
              "                style=\"display:none;\">\n",
              "\n",
              "<svg xmlns=\"http://www.w3.org/2000/svg\" height=\"24px\"viewBox=\"0 0 24 24\"\n",
              "     width=\"24px\">\n",
              "    <g>\n",
              "        <path d=\"M19 3H5c-1.1 0-2 .9-2 2v14c0 1.1.9 2 2 2h14c1.1 0 2-.9 2-2V5c0-1.1-.9-2-2-2zM9 17H7v-7h2v7zm4 0h-2V7h2v10zm4 0h-2v-4h2v4z\"/>\n",
              "    </g>\n",
              "</svg>\n",
              "      </button>\n",
              "\n",
              "<style>\n",
              "  .colab-df-quickchart {\n",
              "      --bg-color: #E8F0FE;\n",
              "      --fill-color: #1967D2;\n",
              "      --hover-bg-color: #E2EBFA;\n",
              "      --hover-fill-color: #174EA6;\n",
              "      --disabled-fill-color: #AAA;\n",
              "      --disabled-bg-color: #DDD;\n",
              "  }\n",
              "\n",
              "  [theme=dark] .colab-df-quickchart {\n",
              "      --bg-color: #3B4455;\n",
              "      --fill-color: #D2E3FC;\n",
              "      --hover-bg-color: #434B5C;\n",
              "      --hover-fill-color: #FFFFFF;\n",
              "      --disabled-bg-color: #3B4455;\n",
              "      --disabled-fill-color: #666;\n",
              "  }\n",
              "\n",
              "  .colab-df-quickchart {\n",
              "    background-color: var(--bg-color);\n",
              "    border: none;\n",
              "    border-radius: 50%;\n",
              "    cursor: pointer;\n",
              "    display: none;\n",
              "    fill: var(--fill-color);\n",
              "    height: 32px;\n",
              "    padding: 0;\n",
              "    width: 32px;\n",
              "  }\n",
              "\n",
              "  .colab-df-quickchart:hover {\n",
              "    background-color: var(--hover-bg-color);\n",
              "    box-shadow: 0 1px 2px rgba(60, 64, 67, 0.3), 0 1px 3px 1px rgba(60, 64, 67, 0.15);\n",
              "    fill: var(--button-hover-fill-color);\n",
              "  }\n",
              "\n",
              "  .colab-df-quickchart-complete:disabled,\n",
              "  .colab-df-quickchart-complete:disabled:hover {\n",
              "    background-color: var(--disabled-bg-color);\n",
              "    fill: var(--disabled-fill-color);\n",
              "    box-shadow: none;\n",
              "  }\n",
              "\n",
              "  .colab-df-spinner {\n",
              "    border: 2px solid var(--fill-color);\n",
              "    border-color: transparent;\n",
              "    border-bottom-color: var(--fill-color);\n",
              "    animation:\n",
              "      spin 1s steps(1) infinite;\n",
              "  }\n",
              "\n",
              "  @keyframes spin {\n",
              "    0% {\n",
              "      border-color: transparent;\n",
              "      border-bottom-color: var(--fill-color);\n",
              "      border-left-color: var(--fill-color);\n",
              "    }\n",
              "    20% {\n",
              "      border-color: transparent;\n",
              "      border-left-color: var(--fill-color);\n",
              "      border-top-color: var(--fill-color);\n",
              "    }\n",
              "    30% {\n",
              "      border-color: transparent;\n",
              "      border-left-color: var(--fill-color);\n",
              "      border-top-color: var(--fill-color);\n",
              "      border-right-color: var(--fill-color);\n",
              "    }\n",
              "    40% {\n",
              "      border-color: transparent;\n",
              "      border-right-color: var(--fill-color);\n",
              "      border-top-color: var(--fill-color);\n",
              "    }\n",
              "    60% {\n",
              "      border-color: transparent;\n",
              "      border-right-color: var(--fill-color);\n",
              "    }\n",
              "    80% {\n",
              "      border-color: transparent;\n",
              "      border-right-color: var(--fill-color);\n",
              "      border-bottom-color: var(--fill-color);\n",
              "    }\n",
              "    90% {\n",
              "      border-color: transparent;\n",
              "      border-bottom-color: var(--fill-color);\n",
              "    }\n",
              "  }\n",
              "</style>\n",
              "\n",
              "      <script>\n",
              "        async function quickchart(key) {\n",
              "          const quickchartButtonEl =\n",
              "            document.querySelector('#' + key + ' button');\n",
              "          quickchartButtonEl.disabled = true;  // To prevent multiple clicks.\n",
              "          quickchartButtonEl.classList.add('colab-df-spinner');\n",
              "          try {\n",
              "            const charts = await google.colab.kernel.invokeFunction(\n",
              "                'suggestCharts', [key], {});\n",
              "          } catch (error) {\n",
              "            console.error('Error during call to suggestCharts:', error);\n",
              "          }\n",
              "          quickchartButtonEl.classList.remove('colab-df-spinner');\n",
              "          quickchartButtonEl.classList.add('colab-df-quickchart-complete');\n",
              "        }\n",
              "        (() => {\n",
              "          let quickchartButtonEl =\n",
              "            document.querySelector('#df-301454cf-df90-4b41-824b-f72abb00b098 button');\n",
              "          quickchartButtonEl.style.display =\n",
              "            google.colab.kernel.accessAllowed ? 'block' : 'none';\n",
              "        })();\n",
              "      </script>\n",
              "    </div>\n",
              "\n",
              "    </div>\n",
              "  </div>\n"
            ],
            "text/plain": [
              "   Unnamed: 0                                  question_title  question_type\n",
              "0           0                 What are metaclasses in Python?              0\n",
              "1           1                       Hidden features of Python              0\n",
              "2           2        What is the effect of extern \"C\" in C++?              0\n",
              "3           3  When should I use Cross Apply over Inner Join?              0\n",
              "4           4                         Embedding Base64 Images              0"
            ]
          },
          "execution_count": 100,
          "metadata": {},
          "output_type": "execute_result"
        }
      ],
      "source": [
        "DATASET_PATH = 'question_title.csv' # Đường dẫn tới file dữ liệu\n",
        "\n",
        "# --- DO NOT CHANGE HERE ---\n",
        "data = read_data(file_path=DATASET_PATH)\n",
        "\n",
        "# Print columns\n",
        "print(f\"Columns: {data.columns}\")\n",
        "\n",
        "# Hiển thị 5 dòng đầu tiên của dữ liệu\n",
        "data.head()\n",
        "\n",
        "# --- DO NOT CHANGE HERE ---"
      ]
    },
    {
      "cell_type": "code",
      "execution_count": null,
      "metadata": {
        "id": "H9KNzbGzw7bc"
      },
      "outputs": [],
      "source": [
        "# Thống kê số lượng dữ liệu theo nhãn\n",
        "def count_labels(data: pd.DataFrame) -> pd.Series:\n",
        "    \"\"\"\n",
        "    Đếm số lượng dữ liệu theo nhãn\n",
        "    Args:\n",
        "        data (pd.DataFrame): Dữ liệu đầu vào, gồm các cột 'Unnamed: 0', 'question_title', 'question_type'\n",
        "    Returns:\n",
        "        pd.Series: Số lượng dữ liệu theo nhãn\n",
        "    \"\"\"\n",
        "    ### YOUR CODE HERE\n",
        "\n",
        "\n",
        "    ### YOUR CODE HERE"
      ]
    },
    {
      "cell_type": "code",
      "execution_count": 102,
      "metadata": {
        "colab": {
          "base_uri": "https://localhost:8080/",
          "height": 210
        },
        "id": "uY5H43dMw7be",
        "outputId": "17ec89c3-3831-4a2c-b8d5-343d970817a3"
      },
      "outputs": [
        {
          "data": {
            "text/html": [
              "<div>\n",
              "<style scoped>\n",
              "    .dataframe tbody tr th:only-of-type {\n",
              "        vertical-align: middle;\n",
              "    }\n",
              "\n",
              "    .dataframe tbody tr th {\n",
              "        vertical-align: top;\n",
              "    }\n",
              "\n",
              "    .dataframe thead th {\n",
              "        text-align: right;\n",
              "    }\n",
              "</style>\n",
              "<table border=\"1\" class=\"dataframe\">\n",
              "  <thead>\n",
              "    <tr style=\"text-align: right;\">\n",
              "      <th></th>\n",
              "      <th>count</th>\n",
              "    </tr>\n",
              "    <tr>\n",
              "      <th>question_type</th>\n",
              "      <th></th>\n",
              "    </tr>\n",
              "  </thead>\n",
              "  <tbody>\n",
              "    <tr>\n",
              "      <th>1</th>\n",
              "      <td>305</td>\n",
              "    </tr>\n",
              "    <tr>\n",
              "      <th>0</th>\n",
              "      <td>300</td>\n",
              "    </tr>\n",
              "    <tr>\n",
              "      <th>2</th>\n",
              "      <td>261</td>\n",
              "    </tr>\n",
              "  </tbody>\n",
              "</table>\n",
              "</div><br><label><b>dtype:</b> int64</label>"
            ],
            "text/plain": [
              "question_type\n",
              "1    305\n",
              "0    300\n",
              "2    261\n",
              "Name: count, dtype: int64"
            ]
          },
          "execution_count": 102,
          "metadata": {},
          "output_type": "execute_result"
        }
      ],
      "source": [
        "# --- DO NOT CHANGE HERE ---\n",
        "\n",
        "label_counts = count_labels(data)\n",
        "label_counts\n",
        "\n",
        "# --- DO NOT CHANGE HERE ---"
      ]
    },
    {
      "cell_type": "markdown",
      "metadata": {
        "id": "d9iID7d9f3Hr"
      },
      "source": [
        "## 2. Xử lý dữ liệu\n",
        "\n",
        "**Mô tả:** Tiền xử lý dữ liệu văn bản gồm các bước:\n",
        "1. Loại bỏ các ký tự đặc biệt, số, dấu câu\n",
        "2. Chuyển chữ in hoa thành in thường\n",
        "3. Lemmatization\n",
        "4. Xoá các từ có độ dài ngắn (ví dụ: <= 2 ký tự)"
      ]
    },
    {
      "cell_type": "markdown",
      "metadata": {
        "id": "Jlx4gq6ukked"
      },
      "source": [
        "### Câu 2: Loại bỏ ký tự đặc biệt, số, dấu câu sử dụng biểu thức chính quy"
      ]
    },
    {
      "cell_type": "code",
      "execution_count": null,
      "metadata": {
        "id": "XmFA8W0WkgYb"
      },
      "outputs": [],
      "source": [
        "import re\n",
        "\n",
        "def regex(text: str) -> str:\n",
        "    \"\"\"\n",
        "    Loại bỏ các ký tự đặc biệt, chữ số, khoảng trắng thừa sử dụng biểu thức chính quy\n",
        "    Args:\n",
        "        text (str): Văn bản đầu vào\n",
        "    Returns:\n",
        "        str: Văn bản đã được làm sạch\n",
        "    \"\"\"\n",
        "    ### YOUR CODE HERE\n",
        "\n",
        "    ### YOUR CODE HERE"
      ]
    },
    {
      "cell_type": "code",
      "execution_count": 104,
      "metadata": {
        "colab": {
          "base_uri": "https://localhost:8080/",
          "height": 36
        },
        "id": "A3zQwphdw7bi",
        "outputId": "62e29398-d763-415f-b212-9d0d9b227265"
      },
      "outputs": [
        {
          "data": {
            "application/vnd.google.colaboratory.intrinsic+json": {
              "type": "string"
            },
            "text/plain": [
              "'Million people die in car accidents every year'"
            ]
          },
          "execution_count": 104,
          "metadata": {},
          "output_type": "execute_result"
        }
      ],
      "source": [
        "# --- DO NOT CHANGE HERE ---\n",
        "regex(text=\"1.3_Million people    die in car accidents every year\")\n",
        "\n",
        "# --- DO NOT CHANGE HERE ---"
      ]
    },
    {
      "cell_type": "markdown",
      "metadata": {
        "id": "ko0LRGMAm2o9"
      },
      "source": [
        "### Câu 3: Chuyển chữ in hoa thành in thường"
      ]
    },
    {
      "cell_type": "code",
      "execution_count": null,
      "metadata": {
        "id": "pE9fbnvSnPic"
      },
      "outputs": [],
      "source": [
        "def text_lowercase(text: str) -> str:\n",
        "    \"\"\"\n",
        "    Chuyển chữ in hoa thành in thường\n",
        "    Args:\n",
        "        text (str): Văn bản đầu vào\n",
        "    Returns:\n",
        "        str: Văn bản đã được chuyển thành chữ thường\n",
        "    \"\"\"\n",
        "    ### YOUR CODE HERE\n",
        "\n",
        "    ### YOUR CODE HERE"
      ]
    },
    {
      "cell_type": "code",
      "execution_count": 106,
      "metadata": {
        "colab": {
          "base_uri": "https://localhost:8080/"
        },
        "id": "xlBbjzGVw7bk",
        "outputId": "17a37e9b-dcf1-4b63-819a-df63e31a9dd6"
      },
      "outputs": [
        {
          "data": {
            "application/vnd.google.colaboratory.intrinsic+json": {
              "type": "string"
            },
            "text/plain": [
              "'our ai smart mobility technology is making driving safer and more comfortable'"
            ]
          },
          "execution_count": 106,
          "metadata": {},
          "output_type": "execute_result"
        }
      ],
      "source": [
        "# --- DO NOT CHANGE HERE ---\n",
        "text_lowercase(text=\"Our AI Smart Mobility technology is making driving safer and more comfortable\")\n",
        "\n",
        "# --- DO NOT CHANGE HERE ---"
      ]
    },
    {
      "cell_type": "markdown",
      "metadata": {
        "id": "eG7n6S3gnZ6R"
      },
      "source": [
        "### Câu 4: Lemmatization\n",
        "\n",
        "**Mô tả:** Sử dụng thư viện `nltk` để thực hiện chuyển đổi về dạng gốc của từ (lemmatization)"
      ]
    },
    {
      "cell_type": "code",
      "execution_count": 107,
      "metadata": {
        "colab": {
          "base_uri": "https://localhost:8080/"
        },
        "id": "_VrRFo7uxP22",
        "outputId": "99038b59-f4f7-4689-f649-037e0ae4d4e4"
      },
      "outputs": [
        {
          "name": "stderr",
          "output_type": "stream",
          "text": [
            "[nltk_data] Downloading package wordnet to /root/nltk_data...\n",
            "[nltk_data]   Package wordnet is already up-to-date!\n"
          ]
        },
        {
          "data": {
            "text/plain": [
              "True"
            ]
          },
          "execution_count": 107,
          "metadata": {},
          "output_type": "execute_result"
        }
      ],
      "source": [
        "import nltk\n",
        "nltk.download('wordnet')"
      ]
    },
    {
      "cell_type": "code",
      "execution_count": null,
      "metadata": {
        "id": "BIbbOjwbw7bm"
      },
      "outputs": [],
      "source": [
        "from nltk.stem import WordNetLemmatizer\n",
        "\n",
        "# Define lemmatizer\n",
        "lemitizer = WordNetLemmatizer()\n",
        "\n",
        "def lemmatization(text: str) -> str:\n",
        "    \"\"\"\n",
        "    Chuyển đổi về dạng gốc của từ (lemmatization) cho động từ\n",
        "    Args:\n",
        "        text (str): Văn bản đầu vào\n",
        "    Returns:\n",
        "        str: Văn bản đã được lemmatization\n",
        "    \"\"\"\n",
        "    ### YOUR CODE HERE\n",
        "\n",
        "    ### YOUR CODE HERE"
      ]
    },
    {
      "cell_type": "code",
      "execution_count": 108,
      "metadata": {
        "id": "32I3VcanxOnt"
      },
      "outputs": [],
      "source": []
    },
    {
      "cell_type": "code",
      "execution_count": 109,
      "metadata": {
        "colab": {
          "base_uri": "https://localhost:8080/"
        },
        "id": "E18Mc6bJw7bn",
        "outputId": "7d99448b-9cbc-4d15-cf7d-b0e94312b507"
      },
      "outputs": [
        {
          "data": {
            "application/vnd.google.colaboratory.intrinsic+json": {
              "type": "string"
            },
            "text/plain": [
              "'say say cars better buy do doors'"
            ]
          },
          "execution_count": 109,
          "metadata": {},
          "output_type": "execute_result"
        }
      ],
      "source": [
        "# --- DO NOT CHANGE HERE ---\n",
        "sample_text = \"saying said cars better bought does doors\"\n",
        "lemmatization(text=sample_text)\n",
        "\n",
        "# --- DO NOT CHANGE HERE ---"
      ]
    },
    {
      "cell_type": "markdown",
      "metadata": {
        "id": "hagmMU0aobWz"
      },
      "source": [
        "### Câu 5: Xoá các từ có độ dài bằng 1\n",
        "\n",
        "**Mô tả:** Xoá các từ có độ dài ngắn (ví dụ: <= 2 ký tự) khỏi tiêu đề"
      ]
    },
    {
      "cell_type": "code",
      "execution_count": null,
      "metadata": {
        "id": "0mICEK5Cw7bp"
      },
      "outputs": [],
      "source": [
        "def remove_short_words(text: str, min_length: int = 2) -> str:\n",
        "    \"\"\"\n",
        "    Xoá các từ có độ dài ngắn (ví dụ: <= 2 ký tự) khỏi tiêu đề\n",
        "    Args:\n",
        "        text (str): Văn bản đầu vào\n",
        "        min_length (int): Độ dài tối thiểu của từ để giữ lại\n",
        "    Returns:\n",
        "        str: Văn bản đã được loại bỏ các từ ngắn\n",
        "    \"\"\"\n",
        "    ### YOUR CODE HERE\n",
        "\n",
        "    ### YOUR CODE HERE"
      ]
    },
    {
      "cell_type": "code",
      "execution_count": 111,
      "metadata": {
        "colab": {
          "base_uri": "https://localhost:8080/"
        },
        "id": "gcOHpBsbw7bq",
        "outputId": "cf8fad0b-b903-436d-b62e-8d19e1a08446"
      },
      "outputs": [
        {
          "data": {
            "application/vnd.google.colaboratory.intrinsic+json": {
              "type": "string"
            },
            "text/plain": [
              "'car road vehicle, typically with four wheels, powered internal combustion engine electric motor, and able carry small number people'"
            ]
          },
          "execution_count": 111,
          "metadata": {},
          "output_type": "execute_result"
        }
      ],
      "source": [
        "# --- DO NOT CHANGE HERE ---\n",
        "remove_short_words(text=\"A car is a road vehicle, typically with four wheels, powered by an internal combustion engine or electric motor, and able to carry a small number of people\", min_length=2)\n",
        "\n",
        "# --- DO NOT CHANGE HERE ---"
      ]
    },
    {
      "cell_type": "markdown",
      "metadata": {
        "id": "1SxybxNRw7br"
      },
      "source": [
        "### Câu 6: Hàm tiền xử lý dữ liệu\n",
        "\n",
        "**Mô tả:** Viết hàm `preprocess_text` để thực hiện tất cả các bước tiền xử lý dữ liệu ở trên. Sau đó áp dụng hàm này cho cột `question_title` trong DataFrame và lưu kết quả vào cột mới `processed_question_title`"
      ]
    },
    {
      "cell_type": "code",
      "execution_count": null,
      "metadata": {
        "id": "RUT-BVkjw7bs"
      },
      "outputs": [],
      "source": [
        "# Hàm tiền xử lý dữ liệu\n",
        "def preprocess_text(text: str) -> str:\n",
        "    \"\"\"\n",
        "    Tiền xử lý văn bản bao gồm các bước:\n",
        "    1. Loại bỏ các ký tự đặc biệt, chữ số, khoảng trắng thừa\n",
        "    2. Chuyển chữ in hoa thành in thường\n",
        "    3. Lemmatization\n",
        "    4. Xoá các từ có độ dài ngắn (ví dụ: <= 2 ký tự)\n",
        "    \"\"\"\n",
        "\n",
        "    ### YOUR CODE HERE\n",
        "\n",
        "    ### YOUR CODE HERE"
      ]
    },
    {
      "cell_type": "code",
      "execution_count": 113,
      "metadata": {
        "colab": {
          "base_uri": "https://localhost:8080/"
        },
        "id": "Yqg8Qduew7bt",
        "outputId": "31fc9d15-179e-4192-b638-040861830f5a"
      },
      "outputs": [
        {
          "data": {
            "application/vnd.google.colaboratory.intrinsic+json": {
              "type": "string"
            },
            "text/plain": [
              "'million people die car accidents every year'"
            ]
          },
          "execution_count": 113,
          "metadata": {},
          "output_type": "execute_result"
        }
      ],
      "source": [
        "# --- DO NOT CHANGE HERE ---\n",
        "preprocess_text(text=\"1.3_Million people    die in a car accidents every year\")\n",
        "\n",
        "# --- DO NOT CHANGE HERE ---"
      ]
    },
    {
      "cell_type": "code",
      "execution_count": null,
      "metadata": {
        "id": "GHsVlyH0paRW"
      },
      "outputs": [],
      "source": [
        "# Sử dụng hàm tiền xử lý dữ liệu để tiền xử lý cột \"question_title\"\n",
        "\n",
        "def preprocess_data(df: pd.DataFrame) -> pd.DataFrame:\n",
        "    \"\"\"\n",
        "    Tiền xử lý cột \"question_title\" trong DataFrame\n",
        "    Args:\n",
        "        df (pd.DataFrame): Dữ liệu đầu vào, gồm các cột 'Unnamed: 0', 'question_title', 'question_type'\n",
        "    Returns:\n",
        "        pd.DataFrame: Dữ liệu đã được tiền xử lý, thêm cột 'processed_question_title'\n",
        "    \"\"\"\n",
        "    ### YOUR CODE HERE\n",
        "\n",
        "\n",
        "    ### YOUR CODE HERE"
      ]
    },
    {
      "cell_type": "code",
      "execution_count": 115,
      "metadata": {
        "colab": {
          "base_uri": "https://localhost:8080/"
        },
        "id": "UO-Y4izWw7bv",
        "outputId": "a77e4b2e-209f-4e5f-8e4a-b6b173c95356"
      },
      "outputs": [
        {
          "data": {
            "application/vnd.google.colaboratory.intrinsic+json": {
              "summary": "{\n  \"name\": \"# --- DO NOT CHANGE HERE ---\",\n  \"rows\": 5,\n  \"fields\": [\n    {\n      \"column\": \"Unnamed: 0\",\n      \"properties\": {\n        \"dtype\": \"number\",\n        \"std\": 1,\n        \"min\": 0,\n        \"max\": 4,\n        \"num_unique_values\": 5,\n        \"samples\": [\n          1,\n          4,\n          2\n        ],\n        \"semantic_type\": \"\",\n        \"description\": \"\"\n      }\n    },\n    {\n      \"column\": \"question_title\",\n      \"properties\": {\n        \"dtype\": \"string\",\n        \"num_unique_values\": 5,\n        \"samples\": [\n          \"Hidden features of Python\",\n          \"Embedding Base64 Images\",\n          \"What is the effect of extern \\\"C\\\" in C++?\"\n        ],\n        \"semantic_type\": \"\",\n        \"description\": \"\"\n      }\n    },\n    {\n      \"column\": \"question_type\",\n      \"properties\": {\n        \"dtype\": \"number\",\n        \"std\": 0,\n        \"min\": 0,\n        \"max\": 0,\n        \"num_unique_values\": 1,\n        \"samples\": [\n          0\n        ],\n        \"semantic_type\": \"\",\n        \"description\": \"\"\n      }\n    },\n    {\n      \"column\": \"processed_question_title\",\n      \"properties\": {\n        \"dtype\": \"string\",\n        \"num_unique_values\": 5,\n        \"samples\": [\n          \"hide feature python\"\n        ],\n        \"semantic_type\": \"\",\n        \"description\": \"\"\n      }\n    }\n  ]\n}",
              "type": "dataframe"
            },
            "text/html": [
              "\n",
              "  <div id=\"df-a799646e-c6ca-4967-aa6d-e20219923f34\" class=\"colab-df-container\">\n",
              "    <div>\n",
              "<style scoped>\n",
              "    .dataframe tbody tr th:only-of-type {\n",
              "        vertical-align: middle;\n",
              "    }\n",
              "\n",
              "    .dataframe tbody tr th {\n",
              "        vertical-align: top;\n",
              "    }\n",
              "\n",
              "    .dataframe thead th {\n",
              "        text-align: right;\n",
              "    }\n",
              "</style>\n",
              "<table border=\"1\" class=\"dataframe\">\n",
              "  <thead>\n",
              "    <tr style=\"text-align: right;\">\n",
              "      <th></th>\n",
              "      <th>Unnamed: 0</th>\n",
              "      <th>question_title</th>\n",
              "      <th>question_type</th>\n",
              "      <th>processed_question_title</th>\n",
              "    </tr>\n",
              "  </thead>\n",
              "  <tbody>\n",
              "    <tr>\n",
              "      <th>0</th>\n",
              "      <td>0</td>\n",
              "      <td>What are metaclasses in Python?</td>\n",
              "      <td>0</td>\n",
              "      <td>what metaclasses python</td>\n",
              "    </tr>\n",
              "    <tr>\n",
              "      <th>1</th>\n",
              "      <td>1</td>\n",
              "      <td>Hidden features of Python</td>\n",
              "      <td>0</td>\n",
              "      <td>hide feature python</td>\n",
              "    </tr>\n",
              "    <tr>\n",
              "      <th>2</th>\n",
              "      <td>2</td>\n",
              "      <td>What is the effect of extern \"C\" in C++?</td>\n",
              "      <td>0</td>\n",
              "      <td>what the effect extern</td>\n",
              "    </tr>\n",
              "    <tr>\n",
              "      <th>3</th>\n",
              "      <td>3</td>\n",
              "      <td>When should I use Cross Apply over Inner Join?</td>\n",
              "      <td>0</td>\n",
              "      <td>when should use cross apply over inner join</td>\n",
              "    </tr>\n",
              "    <tr>\n",
              "      <th>4</th>\n",
              "      <td>4</td>\n",
              "      <td>Embedding Base64 Images</td>\n",
              "      <td>0</td>\n",
              "      <td>embed base image</td>\n",
              "    </tr>\n",
              "  </tbody>\n",
              "</table>\n",
              "</div>\n",
              "    <div class=\"colab-df-buttons\">\n",
              "\n",
              "  <div class=\"colab-df-container\">\n",
              "    <button class=\"colab-df-convert\" onclick=\"convertToInteractive('df-a799646e-c6ca-4967-aa6d-e20219923f34')\"\n",
              "            title=\"Convert this dataframe to an interactive table.\"\n",
              "            style=\"display:none;\">\n",
              "\n",
              "  <svg xmlns=\"http://www.w3.org/2000/svg\" height=\"24px\" viewBox=\"0 -960 960 960\">\n",
              "    <path d=\"M120-120v-720h720v720H120Zm60-500h600v-160H180v160Zm220 220h160v-160H400v160Zm0 220h160v-160H400v160ZM180-400h160v-160H180v160Zm440 0h160v-160H620v160ZM180-180h160v-160H180v160Zm440 0h160v-160H620v160Z\"/>\n",
              "  </svg>\n",
              "    </button>\n",
              "\n",
              "  <style>\n",
              "    .colab-df-container {\n",
              "      display:flex;\n",
              "      gap: 12px;\n",
              "    }\n",
              "\n",
              "    .colab-df-convert {\n",
              "      background-color: #E8F0FE;\n",
              "      border: none;\n",
              "      border-radius: 50%;\n",
              "      cursor: pointer;\n",
              "      display: none;\n",
              "      fill: #1967D2;\n",
              "      height: 32px;\n",
              "      padding: 0 0 0 0;\n",
              "      width: 32px;\n",
              "    }\n",
              "\n",
              "    .colab-df-convert:hover {\n",
              "      background-color: #E2EBFA;\n",
              "      box-shadow: 0px 1px 2px rgba(60, 64, 67, 0.3), 0px 1px 3px 1px rgba(60, 64, 67, 0.15);\n",
              "      fill: #174EA6;\n",
              "    }\n",
              "\n",
              "    .colab-df-buttons div {\n",
              "      margin-bottom: 4px;\n",
              "    }\n",
              "\n",
              "    [theme=dark] .colab-df-convert {\n",
              "      background-color: #3B4455;\n",
              "      fill: #D2E3FC;\n",
              "    }\n",
              "\n",
              "    [theme=dark] .colab-df-convert:hover {\n",
              "      background-color: #434B5C;\n",
              "      box-shadow: 0px 1px 3px 1px rgba(0, 0, 0, 0.15);\n",
              "      filter: drop-shadow(0px 1px 2px rgba(0, 0, 0, 0.3));\n",
              "      fill: #FFFFFF;\n",
              "    }\n",
              "  </style>\n",
              "\n",
              "    <script>\n",
              "      const buttonEl =\n",
              "        document.querySelector('#df-a799646e-c6ca-4967-aa6d-e20219923f34 button.colab-df-convert');\n",
              "      buttonEl.style.display =\n",
              "        google.colab.kernel.accessAllowed ? 'block' : 'none';\n",
              "\n",
              "      async function convertToInteractive(key) {\n",
              "        const element = document.querySelector('#df-a799646e-c6ca-4967-aa6d-e20219923f34');\n",
              "        const dataTable =\n",
              "          await google.colab.kernel.invokeFunction('convertToInteractive',\n",
              "                                                    [key], {});\n",
              "        if (!dataTable) return;\n",
              "\n",
              "        const docLinkHtml = 'Like what you see? Visit the ' +\n",
              "          '<a target=\"_blank\" href=https://colab.research.google.com/notebooks/data_table.ipynb>data table notebook</a>'\n",
              "          + ' to learn more about interactive tables.';\n",
              "        element.innerHTML = '';\n",
              "        dataTable['output_type'] = 'display_data';\n",
              "        await google.colab.output.renderOutput(dataTable, element);\n",
              "        const docLink = document.createElement('div');\n",
              "        docLink.innerHTML = docLinkHtml;\n",
              "        element.appendChild(docLink);\n",
              "      }\n",
              "    </script>\n",
              "  </div>\n",
              "\n",
              "\n",
              "    <div id=\"df-28f35afb-069a-4029-938e-f97ad6ab16c1\">\n",
              "      <button class=\"colab-df-quickchart\" onclick=\"quickchart('df-28f35afb-069a-4029-938e-f97ad6ab16c1')\"\n",
              "                title=\"Suggest charts\"\n",
              "                style=\"display:none;\">\n",
              "\n",
              "<svg xmlns=\"http://www.w3.org/2000/svg\" height=\"24px\"viewBox=\"0 0 24 24\"\n",
              "     width=\"24px\">\n",
              "    <g>\n",
              "        <path d=\"M19 3H5c-1.1 0-2 .9-2 2v14c0 1.1.9 2 2 2h14c1.1 0 2-.9 2-2V5c0-1.1-.9-2-2-2zM9 17H7v-7h2v7zm4 0h-2V7h2v10zm4 0h-2v-4h2v4z\"/>\n",
              "    </g>\n",
              "</svg>\n",
              "      </button>\n",
              "\n",
              "<style>\n",
              "  .colab-df-quickchart {\n",
              "      --bg-color: #E8F0FE;\n",
              "      --fill-color: #1967D2;\n",
              "      --hover-bg-color: #E2EBFA;\n",
              "      --hover-fill-color: #174EA6;\n",
              "      --disabled-fill-color: #AAA;\n",
              "      --disabled-bg-color: #DDD;\n",
              "  }\n",
              "\n",
              "  [theme=dark] .colab-df-quickchart {\n",
              "      --bg-color: #3B4455;\n",
              "      --fill-color: #D2E3FC;\n",
              "      --hover-bg-color: #434B5C;\n",
              "      --hover-fill-color: #FFFFFF;\n",
              "      --disabled-bg-color: #3B4455;\n",
              "      --disabled-fill-color: #666;\n",
              "  }\n",
              "\n",
              "  .colab-df-quickchart {\n",
              "    background-color: var(--bg-color);\n",
              "    border: none;\n",
              "    border-radius: 50%;\n",
              "    cursor: pointer;\n",
              "    display: none;\n",
              "    fill: var(--fill-color);\n",
              "    height: 32px;\n",
              "    padding: 0;\n",
              "    width: 32px;\n",
              "  }\n",
              "\n",
              "  .colab-df-quickchart:hover {\n",
              "    background-color: var(--hover-bg-color);\n",
              "    box-shadow: 0 1px 2px rgba(60, 64, 67, 0.3), 0 1px 3px 1px rgba(60, 64, 67, 0.15);\n",
              "    fill: var(--button-hover-fill-color);\n",
              "  }\n",
              "\n",
              "  .colab-df-quickchart-complete:disabled,\n",
              "  .colab-df-quickchart-complete:disabled:hover {\n",
              "    background-color: var(--disabled-bg-color);\n",
              "    fill: var(--disabled-fill-color);\n",
              "    box-shadow: none;\n",
              "  }\n",
              "\n",
              "  .colab-df-spinner {\n",
              "    border: 2px solid var(--fill-color);\n",
              "    border-color: transparent;\n",
              "    border-bottom-color: var(--fill-color);\n",
              "    animation:\n",
              "      spin 1s steps(1) infinite;\n",
              "  }\n",
              "\n",
              "  @keyframes spin {\n",
              "    0% {\n",
              "      border-color: transparent;\n",
              "      border-bottom-color: var(--fill-color);\n",
              "      border-left-color: var(--fill-color);\n",
              "    }\n",
              "    20% {\n",
              "      border-color: transparent;\n",
              "      border-left-color: var(--fill-color);\n",
              "      border-top-color: var(--fill-color);\n",
              "    }\n",
              "    30% {\n",
              "      border-color: transparent;\n",
              "      border-left-color: var(--fill-color);\n",
              "      border-top-color: var(--fill-color);\n",
              "      border-right-color: var(--fill-color);\n",
              "    }\n",
              "    40% {\n",
              "      border-color: transparent;\n",
              "      border-right-color: var(--fill-color);\n",
              "      border-top-color: var(--fill-color);\n",
              "    }\n",
              "    60% {\n",
              "      border-color: transparent;\n",
              "      border-right-color: var(--fill-color);\n",
              "    }\n",
              "    80% {\n",
              "      border-color: transparent;\n",
              "      border-right-color: var(--fill-color);\n",
              "      border-bottom-color: var(--fill-color);\n",
              "    }\n",
              "    90% {\n",
              "      border-color: transparent;\n",
              "      border-bottom-color: var(--fill-color);\n",
              "    }\n",
              "  }\n",
              "</style>\n",
              "\n",
              "      <script>\n",
              "        async function quickchart(key) {\n",
              "          const quickchartButtonEl =\n",
              "            document.querySelector('#' + key + ' button');\n",
              "          quickchartButtonEl.disabled = true;  // To prevent multiple clicks.\n",
              "          quickchartButtonEl.classList.add('colab-df-spinner');\n",
              "          try {\n",
              "            const charts = await google.colab.kernel.invokeFunction(\n",
              "                'suggestCharts', [key], {});\n",
              "          } catch (error) {\n",
              "            console.error('Error during call to suggestCharts:', error);\n",
              "          }\n",
              "          quickchartButtonEl.classList.remove('colab-df-spinner');\n",
              "          quickchartButtonEl.classList.add('colab-df-quickchart-complete');\n",
              "        }\n",
              "        (() => {\n",
              "          let quickchartButtonEl =\n",
              "            document.querySelector('#df-28f35afb-069a-4029-938e-f97ad6ab16c1 button');\n",
              "          quickchartButtonEl.style.display =\n",
              "            google.colab.kernel.accessAllowed ? 'block' : 'none';\n",
              "        })();\n",
              "      </script>\n",
              "    </div>\n",
              "\n",
              "    </div>\n",
              "  </div>\n"
            ],
            "text/plain": [
              "   Unnamed: 0                                  question_title  question_type  \\\n",
              "0           0                 What are metaclasses in Python?              0   \n",
              "1           1                       Hidden features of Python              0   \n",
              "2           2        What is the effect of extern \"C\" in C++?              0   \n",
              "3           3  When should I use Cross Apply over Inner Join?              0   \n",
              "4           4                         Embedding Base64 Images              0   \n",
              "\n",
              "                      processed_question_title  \n",
              "0                      what metaclasses python  \n",
              "1                          hide feature python  \n",
              "2                       what the effect extern  \n",
              "3  when should use cross apply over inner join  \n",
              "4                             embed base image  "
            ]
          },
          "execution_count": 115,
          "metadata": {},
          "output_type": "execute_result"
        }
      ],
      "source": [
        "# --- DO NOT CHANGE HERE ---\n",
        "process_df = preprocess_data(df=data)\n",
        "\n",
        "# Print 5 rows of processed data\n",
        "process_df.head()\n",
        "\n",
        "# --- DO NOT CHANGE HERE ---"
      ]
    },
    {
      "cell_type": "markdown",
      "metadata": {
        "id": "FIgNlfcLpZ3t"
      },
      "source": [
        "## 3. Trích rút thông tin\n",
        "\n",
        "**Mô tả:** Sử dụng TF-IDF để chuyển đổi tiêu đề thành các đặc trưng số"
      ]
    },
    {
      "cell_type": "markdown",
      "metadata": {
        "id": "VHWT-J84w7bx"
      },
      "source": [
        "### Câu 7: Định nghĩa vectorizer\n",
        "\n",
        "**Mô tả:** Sử dụng một trong các kỹ thuật trích xuất đặc trưng để trích xuất đặc trưng của `question_title` (Text embedding)\n"
      ]
    },
    {
      "cell_type": "code",
      "execution_count": null,
      "metadata": {
        "id": "8ZbT_Dzjw7bx"
      },
      "outputs": [],
      "source": [
        "from typing import Tuple, Any\n",
        "\n",
        "def define_vectorizer() -> Any:\n",
        "    \"\"\"\n",
        "    Định nghĩa đối tượng vectorizer để trích xuất đặc trưng văn bản\n",
        "    (Có thể sử dụng CountVectorizer, TfidfVectorizer, Word2Vec, FastText, GloVe,...)\n",
        "    Returns:\n",
        "        Any: Đối tượng vectorizer đã được định nghĩa\n",
        "    \"\"\"\n",
        "    ### YOUR CODE HERE\n",
        "\n",
        "    ### YOUR CODE HERE"
      ]
    },
    {
      "cell_type": "code",
      "execution_count": null,
      "metadata": {
        "colab": {
          "base_uri": "https://localhost:8080/"
        },
        "id": "Hh7lw6LDw7by",
        "outputId": "48b1c2ed-e692-47dc-d26d-31556d990021"
      },
      "outputs": [],
      "source": [
        "# --- DO NOT CHANGE HERE ---\n",
        "\n",
        "test_vectorizer = define_vectorizer()\n",
        "print(f\"Vectorizer: {test_vectorizer}\")\n",
        "\n",
        "# Test sample text and fit transform\n",
        "sample_texts = [\"This is a sample text\", \"Another sample text for testing\"]\n",
        "sample_features = test_vectorizer.fit_transform(sample_texts)\n",
        "print(f\"Sample features shape: {sample_features.shape}\")\n",
        "\n",
        "# --- DO NOT CHANGE HERE ---"
      ]
    },
    {
      "cell_type": "markdown",
      "metadata": {
        "id": "YuEPKaTGsd6P"
      },
      "source": [
        "## 4. Huấn luyện và đánh giá mô hình\n",
        "\n",
        "**Mô tả:**\n",
        "- Huấn luyện và đánh giá mô hình phân lớp đối với 3 loại: \"hướng dẫn\", \"khái niệm\" và \"sửa lỗi\"\n",
        "- Do số lượng data ít (<1000) nên sử dụng K-fold với n_fold = 10 để đánh giá mô hình\n",
        "\n",
        "> Gợi ý: Có thể sử dụng các mô hình như Logistic Regression, SVM, Random Forest, Neural Networks\n"
      ]
    },
    {
      "cell_type": "markdown",
      "metadata": {
        "id": "Ohk3g9CNw7bz"
      },
      "source": [
        "### Câu 8: Xây dựng mô hình để phân loại tiêu đề\n",
        "\n",
        "**Mô tả:**\n",
        "- Xây dựng mô hình phân lớp để phân loại tiêu đề StackOverflow thành 3 loại: \"hướng dẫn\", \"khái niệm\" và \"sửa lỗi\".\n",
        "- Sử dụng K-fold cross-validation với n_fold = 10 để đánh giá mô hình. In ra các chỉ số đánh giá như accuracy, precision, recall và F1-score cho mỗi fold và trung bình các chỉ số này sau tất cả các fold."
      ]
    },
    {
      "cell_type": "code",
      "execution_count": null,
      "metadata": {
        "id": "_FZyoWWvw7b0"
      },
      "outputs": [],
      "source": [
        "from typing import Any\n",
        "\n",
        "def define_classifier() -> Any:\n",
        "    \"\"\"\n",
        "    Xây dựng và trả về một mô hình phân loại (classifier)\n",
        "    Gợi ý: Mô hình có thể sử dụng Logistic Regression, SVM, Random Forest, Neural Networks,...\n",
        "\n",
        "    Returns:\n",
        "        Any: Mô hình phân loại (trả về một đối tượng mô hình đã được khởi tạo)\n",
        "    \"\"\"\n",
        "\n",
        "    ### YOUR CODE HERE\n",
        "\n",
        "    ### YOUR CODE HERE"
      ]
    },
    {
      "cell_type": "code",
      "execution_count": null,
      "metadata": {
        "colab": {
          "base_uri": "https://localhost:8080/"
        },
        "id": "TjwcA53Xw7b1",
        "outputId": "fba33474-5a45-4e94-cf91-bcfedf488f25"
      },
      "outputs": [],
      "source": [
        "# --- DO NOT CHANGE HERE ---\n",
        "classifier = define_classifier()\n",
        "\n",
        "print(classifier)\n",
        "# --- DO NOT CHANGE HERE ---"
      ]
    },
    {
      "cell_type": "markdown",
      "metadata": {
        "id": "c_clE4vmyoRr"
      },
      "source": [
        "### Câu 9: Huấn luyện và đánh giá mô hình bằng K-fold cross-validation\n",
        "\n",
        "**Mô tả:** Với mô hình đã xây dựng ở [Câu 8](#câu-8-xây-dựng-mô-hình-để-phân-loại-tiêu-đề), sử dụng K-fold cross-validation với n_fold = 10 để đánh giá mô hình. In ra các chỉ số đánh giá như accuracy, precision, recall và F1-score cho mỗi fold và trung bình các chỉ số này sau tất cả các fold."
      ]
    },
    {
      "cell_type": "code",
      "execution_count": null,
      "metadata": {
        "id": "3DFE9JqQynoI"
      },
      "outputs": [],
      "source": [
        "import numpy as np\n",
        "import warnings\n",
        "warnings.filterwarnings(\"ignore\")\n",
        "from sklearn.model_selection import KFold\n",
        "from sklearn.metrics import accuracy_score, precision_score, recall_score, f1_score\n",
        "\n",
        "# --- DO NOT CHANGE HERE ---\n",
        "kf = KFold(n_splits=10, shuffle=True, random_state=42)\n",
        "\n",
        "# --- DO NOT CHANGE HERE ---\n",
        "\n",
        "def train_and_evaluate_model(vectorizer: Any, classifier: Any, X_text: pd.Series, y: pd.Series) -> None:\n",
        "    \"\"\"\n",
        "    Huấn luyện và đánh giá mô hình sử dụng K-fold cross-validation\n",
        "    Args:\n",
        "        vectorizer (Any): Đối tượng vectorizer đã được định nghĩa\n",
        "        classifier (Any): Mô hình phân loại (đối tượng mô hình đã được khởi tạo)\n",
        "        X_text (pd.Series): Dữ liệu đầu vào (cột 'processed_question_title')\n",
        "        y (pd.Series): Nhãn (cột 'question_type')\n",
        "    \"\"\"\n",
        "    # --- DO NOT CHANGE HERE ---\n",
        "    fold_accuracies = []\n",
        "    fold_precisions = []\n",
        "    fold_recalls = []\n",
        "    fold_f1s = []\n",
        "    # --- DO NOT CHANGE HERE ---\n",
        "\n",
        "\n",
        "    ### YOUR CODE HERE\n",
        "\n",
        "\n",
        "    ### YOUR CODE HERE\n",
        "\n",
        "\n",
        "    # --- DO NOT CHANGE HERE ---\n",
        "    avg_accuracy = np.mean(fold_accuracies)\n",
        "    avg_precision = np.mean(fold_precisions)\n",
        "    avg_recall = np.mean(fold_recalls)\n",
        "    avg_f1 = np.mean(fold_f1s)\n",
        "\n",
        "    print(f\"Kết quả trung bình sau 10 folds:\")\n",
        "    print(f\"  - Accuracy: {avg_accuracy:.4f}\")\n",
        "    print(f\"  - Precision: {avg_precision:.4f}\")\n",
        "    print(f\"  - Recall: {avg_recall:.4f}\")\n",
        "    print(f\"  - F1-Score: {avg_f1:.4f}\\n\")\n",
        "    # --- DO NOT CHANGE HERE ---"
      ]
    },
    {
      "cell_type": "code",
      "execution_count": 121,
      "metadata": {
        "colab": {
          "base_uri": "https://localhost:8080/"
        },
        "id": "eD1A4YGSw7b3",
        "outputId": "180fef38-fa91-4964-a756-32aa6be33cb1"
      },
      "outputs": [
        {
          "name": "stdout",
          "output_type": "stream",
          "text": [
            "Fold 1:\n",
            "  Accuracy: 0.6092\n",
            "  Precision: 0.6237\n",
            "  Recall: 0.6092\n",
            "  F1-score: 0.6056\n",
            "Fold 2:\n",
            "  Accuracy: 0.6897\n",
            "  Precision: 0.6947\n",
            "  Recall: 0.6897\n",
            "  F1-score: 0.6831\n",
            "Fold 3:\n",
            "  Accuracy: 0.6552\n",
            "  Precision: 0.6615\n",
            "  Recall: 0.6552\n",
            "  F1-score: 0.6385\n",
            "Fold 4:\n",
            "  Accuracy: 0.7011\n",
            "  Precision: 0.7105\n",
            "  Recall: 0.7011\n",
            "  F1-score: 0.7009\n",
            "Fold 5:\n",
            "  Accuracy: 0.7356\n",
            "  Precision: 0.7389\n",
            "  Recall: 0.7356\n",
            "  F1-score: 0.7318\n",
            "Fold 6:\n",
            "  Accuracy: 0.6782\n",
            "  Precision: 0.6788\n",
            "  Recall: 0.6782\n",
            "  F1-score: 0.6747\n",
            "Fold 7:\n",
            "  Accuracy: 0.7209\n",
            "  Precision: 0.7368\n",
            "  Recall: 0.7209\n",
            "  F1-score: 0.7236\n",
            "Fold 8:\n",
            "  Accuracy: 0.5698\n",
            "  Precision: 0.6202\n",
            "  Recall: 0.5698\n",
            "  F1-score: 0.5435\n",
            "Fold 9:\n",
            "  Accuracy: 0.5930\n",
            "  Precision: 0.6100\n",
            "  Recall: 0.5930\n",
            "  F1-score: 0.5814\n",
            "Fold 10:\n",
            "  Accuracy: 0.5581\n",
            "  Precision: 0.6066\n",
            "  Recall: 0.5581\n",
            "  F1-score: 0.5544\n",
            "Kết quả trung bình sau 10 folds:\n",
            "  - Accuracy: 0.6511\n",
            "  - Precision: 0.6682\n",
            "  - Recall: 0.6511\n",
            "  - F1-Score: 0.6438\n",
            "\n"
          ]
        }
      ],
      "source": [
        "# --- DO NOT CHANGE HERE ---\n",
        "vectorizer = define_vectorizer()\n",
        "X = process_df['processed_question_title']\n",
        "y = process_df['question_type']\n",
        "\n",
        "train_and_evaluate_model(vectorizer=vectorizer, classifier=classifier, X_text=X, y=y)\n",
        "# --- DO NOT CHANGE HERE ---"
      ]
    },
    {
      "cell_type": "markdown",
      "metadata": {
        "id": "8Rj7LuNiw7cc"
      },
      "source": [
        "## 5. Lưu mô hình và vectorizer"
      ]
    },
    {
      "cell_type": "code",
      "execution_count": 122,
      "metadata": {
        "colab": {
          "base_uri": "https://localhost:8080/"
        },
        "id": "2xdgan43w7cc",
        "outputId": "7ec2c4c4-1792-414f-b612-77954a2e912c"
      },
      "outputs": [
        {
          "name": "stdout",
          "output_type": "stream",
          "text": [
            "Model saved to 'saved_model/text_classifier.sav'\n",
            "Vectorizer saved to 'saved_model/tfidf_vectorizer.sav'\n"
          ]
        }
      ],
      "source": [
        "import pickle\n",
        "import os\n",
        "\n",
        "# --- DO NOT CHANGE HERE ---\n",
        "MODEL_DIR = \"saved_model\"\n",
        "if not os.path.exists(MODEL_DIR):\n",
        "    os.makedirs(MODEL_DIR)\n",
        "\n",
        "MODEL_PATH = os.path.join(MODEL_DIR, \"text_classifier.sav\")\n",
        "VECTORIZER_PATH = os.path.join(MODEL_DIR, \"tfidf_vectorizer.sav\")\n",
        "\n",
        "# Save model\n",
        "pickle.dump(classifier, open(MODEL_PATH, 'wb'))\n",
        "print(f\"Model saved to '{MODEL_PATH}'\")\n",
        "\n",
        "# Save vectorizer\n",
        "pickle.dump(vectorizer, open(VECTORIZER_PATH, 'wb'))\n",
        "print(f\"Vectorizer saved to '{VECTORIZER_PATH}'\")\n",
        "\n",
        "# --- DO NOT CHANGE HERE ---"
      ]
    },
    {
      "cell_type": "markdown",
      "metadata": {
        "id": "7Q639l6zw7cc"
      },
      "source": [
        "## 6. Sử dụng mô hình để dự đoán tiêu đề mới"
      ]
    },
    {
      "cell_type": "markdown",
      "metadata": {
        "id": "O-ZBgWKHw7cd"
      },
      "source": [
        "### Câu 10: Dự đoán nhãn cho các tiêu đề mới"
      ]
    },
    {
      "cell_type": "code",
      "execution_count": null,
      "metadata": {
        "id": "MGmqyIBiw7cd"
      },
      "outputs": [],
      "source": [
        "LABEL_MAP = {\n",
        "    0: \"khái niệm\",\n",
        "    1: \"hướng dẫn\",\n",
        "    2: \"sửa lỗi\"\n",
        "}\n",
        "\n",
        "from typing import List\n",
        "\n",
        "def infer_titles(titles: List[str]) -> List[str]:\n",
        "    \"\"\"\n",
        "    Sử dụng mô hình đã lưu để dự đoán nhãn của tiêu đề mới\n",
        "    Args:\n",
        "        titles (List[str]): Danh sách tiêu đề mới cần dự đoán\n",
        "    Returns:\n",
        "        List[str]: Danh sách nhãn dự đoán tương ứng với các tiêu đề\n",
        "    \"\"\"\n",
        "    ### YOUR CODE HERE\n",
        "\n",
        "\n",
        "    ### YOUR CODE HERE"
      ]
    },
    {
      "cell_type": "code",
      "execution_count": 124,
      "metadata": {
        "colab": {
          "base_uri": "https://localhost:8080/"
        },
        "id": "D7xhwnTSw7cd",
        "outputId": "a183b51d-a579-4546-d51c-3636b59d2215"
      },
      "outputs": [
        {
          "name": "stdout",
          "output_type": "stream",
          "text": [
            "Predicted labels: ['hướng dẫn', 'sửa lỗi', 'hướng dẫn', 'khái niệm', 'sửa lỗi']\n"
          ]
        }
      ],
      "source": [
        "# --- DO NOT CHANGE HERE ---\n",
        "TEST_TITLE = [\n",
        "    \"scikit-learn random state in splitting dataset\",\n",
        "    \"Could not build wheels for tokenizers, which is required to install pyproject.toml-based projects\",\n",
        "    \"how to learn from each fold in the k-fold cross validation?\"\n",
        "    \"How to install tensorflow on windows 11\",\n",
        "    \"what is the difference between list and tuple in python\",\n",
        "    \"getting valueerror could not broadcast input array from shape\"\n",
        "]\n",
        "\n",
        "pred_labels = infer_titles(titles=TEST_TITLE)\n",
        "print(\"Predicted labels:\", pred_labels)\n",
        "\n",
        "# --- DO NOT CHANGE HERE ---"
      ]
    },
    {
      "cell_type": "code",
      "execution_count": 124,
      "metadata": {
        "id": "tuFCKkw2w7ce"
      },
      "outputs": [],
      "source": []
    }
  ],
  "metadata": {
    "accelerator": "GPU",
    "colab": {
      "gpuType": "T4",
      "provenance": []
    },
    "kernelspec": {
      "display_name": "myenv",
      "language": "python",
      "name": "python3"
    },
    "language_info": {
      "codemirror_mode": {
        "name": "ipython",
        "version": 3
      },
      "file_extension": ".py",
      "mimetype": "text/x-python",
      "name": "python",
      "nbconvert_exporter": "python",
      "pygments_lexer": "ipython3",
      "version": "3.11.13"
    }
  },
  "nbformat": 4,
  "nbformat_minor": 0
}
