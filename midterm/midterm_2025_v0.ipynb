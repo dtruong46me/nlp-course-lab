{
  "cells": [
    {
      "cell_type": "markdown",
      "metadata": {
        "id": "a8Fj49w7S-2U"
      },
      "source": [
        "**Đánh giá giữa kỳ**\n",
        "\n",
        "Học viên cần xây dựng một bộ phân lớp cho bài toán phân lớp tiêu đề StackOverflow (phân lớp văn bản). Dữ liệu là tập 3 loại tiêu đề bao gồm: hướng dẫn, khái niệm và sửa lỗi. Các yêu cầu gồm:\n",
        "1. Xử lý dữ liệu\n",
        "2. Trích rút thông tin\n",
        "3. Huấn luyện và đánh giá mô hình"
      ]
    },
    {
      "cell_type": "code",
      "execution_count": null,
      "metadata": {
        "colab": {
          "base_uri": "https://localhost:8080/"
        },
        "id": "3ZIo47U67EvB",
        "outputId": "dfdea824-f7f8-4ab7-e8e0-2c448fba86e0"
      },
      "outputs": [
        {
          "name": "stdout",
          "output_type": "stream",
          "text": [
            "Downloading...\n",
            "From: https://drive.google.com/uc?id=1ef8DpctKSDpQEZz5icfrKb9yk-b-jyWF\n",
            "To: /content/question_title.csv\n",
            "\r  0% 0.00/52.0k [00:00<?, ?B/s]\r100% 52.0k/52.0k [00:00<00:00, 141MB/s]\n"
          ]
        }
      ],
      "source": [
        "!gdown https://drive.google.com/uc?id=1ef8DpctKSDpQEZz5icfrKb9yk-b-jyWF"
      ]
    },
    {
      "cell_type": "markdown",
      "metadata": {
        "id": "qUVTe5-uUuQ-"
      },
      "source": [
        "Tập dữ liệu gồm 3 chủ đề tiêu đề, trong đó gồm 866 tiêu đề\n",
        "\n",
        "Dữ liệu được lưu trong cùng thư mục với tệp này\n",
        "\n",
        "Đoạn mã sau đây để lấy được dữ liệu"
      ]
    },
    {
      "cell_type": "markdown",
      "metadata": {
        "id": "Z1Er6eCYYwgh"
      },
      "source": [
        "## **1. Đọc dữ liệu**\n",
        "\n",
        "**Câu 1. Đọc dữ liệu**"
      ]
    },
    {
      "cell_type": "code",
      "execution_count": null,
      "metadata": {
        "colab": {
          "base_uri": "https://localhost:8080/"
        },
        "id": "Y927zGd3YuV3",
        "outputId": "92eb08be-c5d7-45b7-e4c3-11dd6648cb81"
      },
      "outputs": [
        {
          "name": "stdout",
          "output_type": "stream",
          "text": [
            "     Unnamed: 0                                     question_title  \\\n",
            "0             0                    What are metaclasses in Python?   \n",
            "1             1                          Hidden features of Python   \n",
            "2             2           What is the effect of extern \"C\" in C++?   \n",
            "3             3     When should I use Cross Apply over Inner Join?   \n",
            "4             4                            Embedding Base64 Images   \n",
            "..          ...                                                ...   \n",
            "861         861  Crash in a modified version of an official Zer...   \n",
            "862         862   Show stream video in angular 8 with HTML5 Player   \n",
            "863         863      Load files to Azure file storage using python   \n",
            "864         864  How can countdown timer continue running even ...   \n",
            "865         865  What is the password they are requesting to ge...   \n",
            "\n",
            "     question_type  \n",
            "0                0  \n",
            "1                0  \n",
            "2                0  \n",
            "3                0  \n",
            "4                0  \n",
            "..             ...  \n",
            "861              2  \n",
            "862              2  \n",
            "863              1  \n",
            "864              1  \n",
            "865              1  \n",
            "\n",
            "[866 rows x 3 columns]\n"
          ]
        }
      ],
      "source": [
        "### YOUR CODE HERE\n",
        "\n",
        "\n",
        "\n",
        "\n",
        "### YOUR CODE HERE"
      ]
    },
    {
      "cell_type": "code",
      "execution_count": null,
      "metadata": {
        "colab": {
          "base_uri": "https://localhost:8080/"
        },
        "id": "cQ--S7pbY2oi",
        "outputId": "cad4f772-4af5-4c0e-e84d-48a276cbaf0b"
      },
      "outputs": [
        {
          "data": {
            "text/plain": [
              "question_type\n",
              "0    300\n",
              "1    305\n",
              "2    261\n",
              "dtype: int64"
            ]
          },
          "execution_count": 22,
          "metadata": {},
          "output_type": "execute_result"
        }
      ],
      "source": [
        "#thống kê số lượng data theo nhãn\n",
        "\n",
        "# YOUR CODE HERE\n",
        "\n",
        "\n",
        "\n",
        "\n",
        "#YOUR CODE HERE"
      ]
    },
    {
      "cell_type": "markdown",
      "metadata": {
        "id": "d9iID7d9f3Hr"
      },
      "source": [
        "## **2. Xử lý dữ liệu**\n",
        "\n",
        "Các yêu cầu chính của xử lý dữ liệu bao gồm:\n",
        "*   Câu 2: Biểu thức chính quy(regex)\n",
        "*   Câu 3: Chuyển chữ in hoa thành in thường\n",
        "*   Câu 4: Lemmatization\n",
        "*   Câu 5: Xoá các từ có độ dài ngắn"
      ]
    },
    {
      "cell_type": "markdown",
      "metadata": {
        "id": "Jlx4gq6ukked"
      },
      "source": [
        "**Câu 2: Viết hàm loại bỏ các ký tự đặc biệt, dấu cách thừa, chữ số sử dụng biểu thức chính quy**"
      ]
    },
    {
      "cell_type": "code",
      "execution_count": null,
      "metadata": {
        "id": "XmFA8W0WkgYb"
      },
      "outputs": [],
      "source": [
        "import re"
      ]
    },
    {
      "cell_type": "code",
      "execution_count": null,
      "metadata": {
        "id": "MLdsLUHklHz_"
      },
      "outputs": [],
      "source": [
        "### YOUR CODE HERE\n",
        "\n",
        "\n",
        "\n",
        "### YOUR CODE HERE"
      ]
    },
    {
      "cell_type": "code",
      "execution_count": null,
      "metadata": {
        "colab": {
          "base_uri": "https://localhost:8080/"
        },
        "id": "tSHsB7gMlJ-c",
        "outputId": "d23ac621-5f7c-49be-9dfe-6a69beb0479d"
      },
      "outputs": [
        {
          "name": "stdout",
          "output_type": "stream",
          "text": [
            "1.3_Million people    die in car accidents every year\n"
          ]
        }
      ],
      "source": [
        "### BEGIN HIDDEN TESTS\n",
        "document = regex(\"1.3_Million people    die in car accidents every year\")\n",
        "print(document)\n",
        "### END HIDDEN TESTS"
      ]
    },
    {
      "cell_type": "markdown",
      "metadata": {
        "id": "ko0LRGMAm2o9"
      },
      "source": [
        "**Câu 3: Chuyển chữ in hoa thành in thường**"
      ]
    },
    {
      "cell_type": "code",
      "execution_count": null,
      "metadata": {
        "id": "pE9fbnvSnPic"
      },
      "outputs": [],
      "source": [
        "### YOUR CODE HERE\n",
        "def text_lowercase(document):\n",
        "\n",
        "\n",
        "### YOUR CODE HERE"
      ]
    },
    {
      "cell_type": "code",
      "execution_count": null,
      "metadata": {
        "id": "tsizTkTRnTbr"
      },
      "outputs": [],
      "source": [
        " ### BEGIN HIDDEN TESTS\n",
        "document = text_lowercase(\"Our AI Smart Mobility technology is making driving safer and more comfortable\")\n",
        "document\n",
        "### END HIDDEN TESTS"
      ]
    },
    {
      "cell_type": "markdown",
      "metadata": {
        "id": "eG7n6S3gnZ6R"
      },
      "source": [
        "**Câu 4: Lemmatization**"
      ]
    },
    {
      "cell_type": "code",
      "execution_count": null,
      "metadata": {
        "id": "WJTNp39Dnx9J"
      },
      "outputs": [],
      "source": [
        "from nltk.stem import WordNetLemmatizer\n",
        "lemmatizer = WordNetLemmatizer()"
      ]
    },
    {
      "cell_type": "code",
      "execution_count": null,
      "metadata": {
        "id": "vZbRYNuzniHf"
      },
      "outputs": [],
      "source": [
        "### YOUR CODE HERE\n",
        "def lemmatization(document):\n",
        "\n",
        "\n",
        "\n",
        "### YOUR CODE HERE"
      ]
    },
    {
      "cell_type": "markdown",
      "metadata": {
        "id": "hagmMU0aobWz"
      },
      "source": [
        "**Câu 5: Xoá các từ có độ dài bằng 1**"
      ]
    },
    {
      "cell_type": "code",
      "execution_count": null,
      "metadata": {
        "id": "SRyBIyqUoTUB"
      },
      "outputs": [],
      "source": [
        "### YOUR CODE HERE\n",
        "def remove_short_word(document):\n",
        "\n",
        "\n",
        "\n",
        "### YOUR CODE HERE"
      ]
    },
    {
      "cell_type": "markdown",
      "metadata": {
        "id": "fhFH160Eo9w-"
      },
      "source": [
        "**Hàm tiền xử lý dữ liệu**"
      ]
    },
    {
      "cell_type": "code",
      "execution_count": null,
      "metadata": {
        "id": "eEPZI2S5pKaZ"
      },
      "outputs": [],
      "source": [
        "### YOUR CODE HERE\n",
        "def text_preprocess(document):\n",
        "\n",
        "\n",
        "\n",
        "\n",
        "\n",
        "### YOU CODE HERE"
      ]
    },
    {
      "cell_type": "markdown",
      "metadata": {
        "id": "n-Eq1176phEv"
      },
      "source": [
        "**Xử dụng hàm tiền xử lý dữ liệu để xử lý question_title**"
      ]
    },
    {
      "cell_type": "code",
      "execution_count": null,
      "metadata": {
        "id": "GHsVlyH0paRW"
      },
      "outputs": [],
      "source": [
        "### YOUR CODE HERE\n",
        "\n",
        "\n",
        "\n",
        "\n",
        "### YOUR CODE HERE"
      ]
    },
    {
      "cell_type": "markdown",
      "metadata": {
        "id": "FIgNlfcLpZ3t"
      },
      "source": [
        "## **3. Trích rút thông tin**\n",
        "**Câu 7: Sử dụng một trong số các kĩ thuật trích xuất đặc trưng để trích xuất đặc trưng của question_title (Text embedding)**\n",
        "\n",
        "\n"
      ]
    },
    {
      "cell_type": "code",
      "execution_count": null,
      "metadata": {
        "id": "-kzsCV2ZrEBx"
      },
      "outputs": [],
      "source": [
        "### YOUR CODE HERE\n",
        "\n",
        "\n",
        "\n",
        "\n",
        "\n",
        "\n",
        "\n",
        "### YOUR CODE HERE"
      ]
    },
    {
      "cell_type": "markdown",
      "metadata": {
        "id": "YuEPKaTGsd6P"
      },
      "source": [
        "## **4. Huấn luyện và đánh giá mô hình** ##\n",
        "(**Do số lượng data ít (<1000) nên sử dụng K-fold với n_fold = 10 để đánh giá mô hình**)\n",
        "\n",
        "\n",
        "\n",
        "**Câu 8: Xây dựng mô hình để phân loại tiêu đề**\n"
      ]
    },
    {
      "cell_type": "code",
      "execution_count": null,
      "metadata": {
        "id": "_PTU55Xvsc5j"
      },
      "outputs": [],
      "source": [
        "### YOUR CODE HERE\n",
        "\n",
        "\n",
        "\n",
        "\n",
        "\n",
        "\n",
        "\n",
        "### YOUR CODE HERE"
      ]
    },
    {
      "cell_type": "markdown",
      "metadata": {
        "id": "c_clE4vmyoRr"
      },
      "source": [
        "**Câu 9: Xử dụng K-fold để đánh giá mô hình**"
      ]
    },
    {
      "cell_type": "code",
      "execution_count": null,
      "metadata": {
        "id": "3DFE9JqQynoI"
      },
      "outputs": [],
      "source": [
        "from sklearn.model_selection import KFold\n",
        "\n",
        "kf = KFold(n_splits=10, shuffle=True, random_state=42)"
      ]
    },
    {
      "cell_type": "code",
      "execution_count": null,
      "metadata": {
        "id": "410HxSAUzY4E"
      },
      "outputs": [],
      "source": [
        "### YOUR CODE HERE\n",
        "\n",
        "\n",
        "\n",
        "\n",
        "\n",
        "\n",
        "\n",
        "\n",
        "### YOUR CODE HERE"
      ]
    },
    {
      "cell_type": "markdown",
      "metadata": {
        "id": "fnXPeXgu0Phq"
      },
      "source": [
        "**Tạo folder chứa mô hình**"
      ]
    },
    {
      "cell_type": "code",
      "execution_count": null,
      "metadata": {
        "id": "ITWirfPK0VXT"
      },
      "outputs": [],
      "source": [
        "import pickle\n",
        "import os\n",
        "\n",
        "MODEL_PATH = \"models\"\n",
        "if not os.path.exists(MODEL_PATH):\n",
        "    os.makedirs(MODEL_PATH)\n",
        "#save model classifier_question\n",
        "\n",
        "\n",
        "filename = 'question_classifier.sav'\n",
        "pickle.dump(model_classify, open(os.path.join(MODEL_PATH, filename), 'wb'))"
      ]
    },
    {
      "cell_type": "markdown",
      "metadata": {
        "id": "wNOLIydS1QR4"
      },
      "source": [
        "**Câu 10: Thử nghiệm mô hình**"
      ]
    },
    {
      "cell_type": "code",
      "execution_count": null,
      "metadata": {
        "id": "RTYxKguj1T2y"
      },
      "outputs": [],
      "source": [
        "document = ['scikit-learn random state in splitting dataset',\n",
        "            'Could not build wheels for tokenizers, which is required to install pyproject.toml-based projects',\n",
        "            'how to learn from each fold in the k-fold cross validation?']\n",
        "### YOUR CODE HERE\n",
        "document = none\n",
        "print(document)\n",
        "document = none\n",
        "\n",
        "label = none\n",
        "print('Predict label:', none)\n",
        "### YOUR CODE HERE"
      ]
    }
  ],
  "metadata": {
    "colab": {
      "provenance": []
    },
    "kernelspec": {
      "display_name": "myenv",
      "language": "python",
      "name": "python3"
    },
    "language_info": {
      "name": "python",
      "version": "3.11.13"
    }
  },
  "nbformat": 4,
  "nbformat_minor": 0
}
