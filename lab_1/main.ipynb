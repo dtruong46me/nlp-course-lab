{
 "cells": [
  {
   "cell_type": "markdown",
   "id": "570fb1b4",
   "metadata": {},
   "source": [
    "# Assignment 1\n",
    "\n",
    "- Đọc dữ liệu từ các định dạng `.json`, `.docx`, `.json`\n",
    "- Làm sạch văn bản bằng biểu thức chính quy"
   ]
  },
  {
   "cell_type": "markdown",
   "id": "ba680cfe",
   "metadata": {},
   "source": [
    "## 0. Import libraries & Set datapaths"
   ]
  },
  {
   "cell_type": "code",
   "execution_count": 9,
   "id": "a1506541",
   "metadata": {},
   "outputs": [],
   "source": [
    "import json\n",
    "from docx import Document\n",
    "from PyPDF2 import PdfReader\n",
    "from PyPDF2 import PageObject"
   ]
  },
  {
   "cell_type": "markdown",
   "id": "616a3ad4",
   "metadata": {},
   "source": [
    "## 1. Trích xuất dữ liệu từ file PDF"
   ]
  },
  {
   "cell_type": "code",
   "execution_count": null,
   "id": "e42ffc43",
   "metadata": {},
   "outputs": [],
   "source": [
    "def extract_pdf_text(file_path: str) -> str:\n",
    "    \"\"\"\n",
    "    Extract text from a PDF file.\n",
    "    Args:\n",
    "        file_path (str): Path to the PDF file.\n",
    "    Returns:\n",
    "        str: Extracted text from the PDF file.\n",
    "    \"\"\"\n",
    "    try:\n",
    "        with open(file_path, \"rb\") as file:\n",
    "            # Create a PDF reader object\n",
    "            reader = PdfReader(file)\n",
    "\n",
    "            # Get number of pages\n",
    "            num_pages: int = len(reader.pages)\n",
    "            print(f\"Number of pages: {num_pages}\")\n",
    "\n",
    "            # Extract text from the first page\n",
    "            first_page: PageObject = reader.pages[0]\n",
    "            text: str = first_page.extract_text()\n",
    "            print(f\"{text}\")\n",
    "\n",
    "            return text if text else \"\" \n",
    "\n",
    "    except Exception as e:\n",
    "        raise e"
   ]
  },
  {
   "cell_type": "code",
   "execution_count": 7,
   "id": "18f83bf6",
   "metadata": {},
   "outputs": [
    {
     "name": "stdout",
     "output_type": "stream",
     "text": [
      "Number of pages: 3\n",
      "The firm, which is now one of the biggest investors in Google, benefited from sales of high-speed internet connections and higher advert sales. TimeWarner said fourth quarter sales rose 2% to $11.1bn from $10.9bn. Its profits were buoyed by one-off gains which offset a profit dip at Warner Bros, and less users for AOL. Time Warner said on Friday that it now owns 8% of search-engine Google. But its own internet business, AOL, had has mixed fortunes. It lost 464,000 subscribers in the fourth quarter profits were lower than in the preceding three quarters. However, the company said AOL's underlying profit before exceptional items rose 8% on the back of stronger internet advertising revenues. It hopes to increase subscribers by offering the online service free to TimeWarner internet customers and will try to sign up AOL's existing customers for high-speed broadband. TimeWarner also has to restate 2000 and 2003 results following a probe by the US Securities Exchange Commission (SEC), which is close to concluding. Time Warner's fourth quarter profits were slightly better than analysts' expectations. But its film division saw profits slump 27% to $284m, helped by box-office flops Alexander and Catwoman, a sharp contrast to year-earlier, when the third and final film in the Lord of the Rings trilogy boosted results. For the full-year, TimeWarner posted a profit of $3.36bn, up 27% from its 2003 performance, while revenues grew 6.4% to $42.09bn. \"Our financial performance was strong, meeting or exceeding all of our full-year objectives and greatly enhancing our flexibility,\" chairman and chief executive Richard Parsons said. For 2005, TimeWarner is projecting operating earnings growth of around 5%, and also expects higher revenue and wider profit margins. TimeWarner is to restate its accounts as part of efforts to resolve an inquiry into AOL by US market regulators. It has already offered to pay $300m to settle charges, in a deal that is under review by the SEC. The company said it was unable to estimate the amount it needed to set aside for legal reserves, which it previously set at $500m. It intends to adjust the way it accounts for a deal with German music publisher Bertelsmann's purchase of a stake in AOL Europe, which it had reported as advertising revenue. It will now book the sale of its stake in AOL Europe as a loss on the value of that stake. nd Alan Greenspan highlighted the US government's willingness to curb spending and rising household savings as factors which may help to reduce it. In late trading in New York, the dollar reached $1.2871 against the euro, from $1.2974 on Thursday. Market concerns about the deficit has hit the greenback in recent months. On Friday, Federal Reserve chairman Mr Greenspan's speech in London ahead of the meeting of G7 finance ministers sent the dollar higher after it had earlier tumbled on the back of worse-than-expected US jobs data. \"I think the chairman's taking a much more sanguine view on the current account deficit than he's taken for some time,\" said Robert Sinche, head of currency strategy at Bank of America in New York. \"He's taking a longer-term view, laying out a set of conditions under which the current account deficit can improve this year and next.\" Worries about the deficit concerns about China do, however, remain. China's currency remains pegged to the dollar and the US currency's sharp falls in recent months have therefore made Chinese export prices highly competitive. But calls for a shift in Beijing's \n"
     ]
    }
   ],
   "source": [
    "PDF_FILE_PATH = \"data/News1.pdf\"\n",
    "extracted_pdf_text = extract_pdf_text(file_path=PDF_FILE_PATH)"
   ]
  },
  {
   "cell_type": "markdown",
   "id": "f3e69fbf",
   "metadata": {},
   "source": [
    "## 2. Trích xuất dữ liệu từ DOCX"
   ]
  },
  {
   "cell_type": "code",
   "execution_count": 7,
   "id": "9b9d76c6",
   "metadata": {},
   "outputs": [],
   "source": [
    "def extract_docx_text(file_path: str) -> str:\n",
    "    \"\"\"\n",
    "    Extract content from a DOCX file.\n",
    "    Args:\n",
    "        file_path (str): Path to the DOCX file.\n",
    "    Returns:\n",
    "        str: Extracted text from the DOCX file.\n",
    "    \"\"\"\n",
    "    try:\n",
    "        with open(file_path, \"rb\") as file:\n",
    "            # Create a Document object\n",
    "            document = Document(file)\n",
    "\n",
    "            docx_text = \"\"\n",
    "            for para in document.paragraphs:\n",
    "                docx_text += para.text\n",
    "\n",
    "            return docx_text.strip()\n",
    "\n",
    "    except Exception as e:\n",
    "        raise e"
   ]
  },
  {
   "cell_type": "code",
   "execution_count": 8,
   "id": "3fc69c99",
   "metadata": {},
   "outputs": [
    {
     "name": "stdout",
     "output_type": "stream",
     "text": [
      "Revised figures indicated growth of just 0.1% - and a similar-sized contraction in the previous quarter. On an annual basis, the data suggests annual growth of just 0.2%, suggesting a much more hesitant recovery than had previously been thought. A common technical definition of a recession is two successive quarters of negative growth.The government was keen to play down the worrying implications of the data. \"I maintain the view that Japan's economy remains in a minor adjustment phase in an upward climb, and we will monitor developments carefully,\" said economy minister Heizo Takenaka. But in the face of the strengthening yen making exports less competitive and indications of weakening economic conditions ahead, observers were less sanguine. \"It's painting a picture of a recovery... much patchier than previously thought,\" said Paul Sheard, economist at Lehman Brothers in Tokyo. Improvements in the job market apparently have yet to feed through to domestic demand, with private consumption up just 0.2% in the third quarter.According to Labor Department figures, US firms added only 146,000 jobs in January. The gain in non-farm payrolls was below market expectations of 190,000 new jobs. Nevertheless it was enough to push down the unemployment rate to 5.2%, its lowest level since September 2001. The job gains mean that President Bush can celebrate - albeit by a very fine margin - a net growth in jobs in the US economy in his first term in office. He presided over a net fall in jobs up to last November's Presidential election - the first President to do so since Herbert Hoover. As a result, job creation became a key issue in last year's election. However, when adding December and January's figures, the administration's first term jobs record ended in positive territory.Analysts said the growth in new jobs was not as strong as could be expected given the favourable economic conditions. \"It suggests that employment is continuing to expand at a moderate pace,\" said Rick Egelton, deputy chief economist at BMO Financial Group. \"We are not getting the boost to employment that we would have got given the low value of the dollar and the still relatively low interest rate environment.\" \"The economy is producing a moderate but not a satisfying amount of job growth,\" said Ken Mayland, president of ClearView Economics. \"That means there are a limited number of new opportunities for workers.\"In London on Thursday ahead of the meeting, India's finance minister, lashed out at the restrictive trade policies of the G7 nations. He objected to subsidies on agriculture that make it hard for developing nations like India to compete. He also called for reform of the United Nations, the World Bank and the IMF.Palaniappan Chidambaram, India's finance minister, argued that these organisations need to take into account the changing world order, given India and China's integration into the global economy. He said the issue is not globalisation but \"the terms of engagement in globalisation.\" Mr Chidambaram is attending the G7 meeting as part of the G20 group of nations, which account for two thirds of the world's population. At a conference on developing enterprise hosted by UK finance minister Gordon Brown on Friday, he said that he was in favour of floating exchange rates because they help countries cope with economic shocks. \"A flexible exchange rate is one more channel for absorbing both positive and negative shocks,\" he told the conference. India, along with China, Brazil, South Africa and Russia, has been invited to take part in the G7 meeting taking place in London on Friday and Saturday. China is expected to face renewed pressure to abandon its fixed exchange rate, which G7 nations, in particular the US, have blamed for a surge in cheap Chinese exports. \"Some countries have tried to use fixed exchange rates. I do not wish to make any judgements,\" Mr Chidambaram said. Separately, the IMF warned on Thursday that India's budget deficit was too large and would hamper the country's economic growth, which it forecast to be around 6.5% in the year to March 2005. In the year to March 2004, the Indian economy grew by 8.5%.In 2003, crop production totalled 11.49 million tonnes, the joint report from the Food and Agriculture Organisation and the World Food Programme said. Good rains, increased use of fertilizers and improved seeds contributed to the rise in production. Nevertheless, 2.2 million Ethiopians will still need emergency assistance.The report calculated emergency food requirements for 2005 to be 387,500 tonnes. On top of that, 89,000 tonnes of fortified blended food and vegetable oil for \"targeted supplementary food distributions for a survival programme for children under five and pregnant and lactating women\" will be needed.In eastern and southern Ethiopia, a prolonged drought has killed crops and drained wells. Last year, a total of 965,000 tonnes of food assistance was needed to help seven million Ethiopians. The Food and Agriculture Organisation (FAO) recommend that the food assistance is bought locally. \"Local purchase of cereals for food assistance programmes is recommended as far as possible, so as to assist domestic markets and farmers,\" said Henri Josserand, chief of FAO's Global Information and Early Warning System. Agriculture is the main economic activity in Ethiopia, representing 45% of gross domestic product. About 80% of Ethiopians depend directly or indirectly on agriculture.The demand for $280bn (£155bn) - filed by the Clinton administration in 1999 - was rejected in a 2-1 decision. The court in Washington found that the case could not be brought under federal anti-racketeering laws. Among the accused were Altria Group, RJ Reynolds Tobacco, Lorillard Tobacco, Liggett Group and Brown and Williamson. In its case, the government claimed tobacco firms manipulated nicotine levels to increase addiction, targeted teenagers with multi-billion dollar advertising campaigns, lied about the dangers of smoking and ignored research to the contrary.Prosecutors wanted the cigarette firms to surrender $280bn in profits accumulated over the past 50 years and impose tougher rules on marketing their products. But the Court of Appeals for the District of Columbia ruled that the US government could not sue the firms under legislation drawn up to counteract Mafia infiltration of business. The tobacco companies deny that they illegally conspired to promote smoking and defraud the public. They also say they have already met many of the government's demands in a landmark $206bn settlement reached with 46 states in 1998. Shares of tobacco companies closed higher after the ruling, with Altria rising 5% and Reynolds showing gains of 4.5%.The firm's revenue nearly tripled in the fourth quarter of 2004, exceeding $86m (£46m). Ask Jeeves, once among the best-known names on the web, is now a relatively modest player. Its $17m profit for the quarter was dwarfed by the $204m announced by rival Google earlier in the week. During the same quarter, Yahoo earned $187m, again tipping a resurgence in online advertising.The trend has taken hold relatively quickly. Late last year, marketing company Doubleclick, one of the leading providers of online advertising, warned that some or all of its business would have to be put up for sale. But on Thursday, it announced that a sharp turnaround had brought about an unexpected increase in profits. Neither Ask Jeeves nor Doubleclick thrilled investors with their profit news, however. In both cases, their shares fell by some 4%. Analysts attributed the falls to excessive expectations in some quarters, fuelled by the dramatic outperformance of Google on Tuesday.\n"
     ]
    }
   ],
   "source": [
    "DOC_FILE_PATH = \"data/News2.docx\"\n",
    "extracted_docx_text = extract_docx_text(file_path=DOC_FILE_PATH)\n",
    "print(extracted_docx_text)"
   ]
  },
  {
   "cell_type": "markdown",
   "id": "138c2d2f",
   "metadata": {},
   "source": [
    "## 3. Trích xuất dữ liệu từ JSON"
   ]
  },
  {
   "cell_type": "code",
   "execution_count": 11,
   "id": "01f9dc37",
   "metadata": {},
   "outputs": [],
   "source": [
    "def extract_json_text(file_path: str) -> str:\n",
    "    \"\"\"\n",
    "    Extract content from a JSON file.\n",
    "    Args:\n",
    "        file_path (str): Path to the JSON file.\n",
    "    Returns:\n",
    "        str: Extracted text from the JSON file.\n",
    "    \"\"\"\n",
    "    try:\n",
    "        with open(file_path, \"r\") as file:\n",
    "            # Load JSON data\n",
    "            data: dict = json.load(file)\n",
    "\n",
    "            json_text = \"\\n\".join(data.values())\n",
    "\n",
    "            return json_text.strip()\n",
    "    \n",
    "    except Exception as e:\n",
    "        raise e"
   ]
  },
  {
   "cell_type": "code",
   "execution_count": 12,
   "id": "90e13d5e",
   "metadata": {},
   "outputs": [
    {
     "name": "stdout",
     "output_type": "stream",
     "text": [
      "The Telegraph Group says the cuts are needed to fund an £150m investment in new printing facilities. Journalists at the firm met on Friday afternoon to discuss how to react to the surprise announcement. The cuts come against a background of fierce competition for readers and sluggish advertising revenues amid competition from online advertising. The National Union of Journalists has called on the management to recall the notice of redundancy by midday on Monday or face a strike ballot.\n",
      "The National Union of Journalists said it stood strongly behind the journalists and did not rule out a strike. Managers have torn up agreed procedures and kicked staff in the teeth by sacking people to pay for printing facilities, said Jeremy Dear, NUJ General Secretary. NUJ official Barry Fitzpatrick said the company had ignored the 90-day consultation period required for companies planning more than 10 redundancies. They have shown a complete disregard for the consultative rights of our members\n",
      "Some broadsheet newspapers - especially those which have not moved to a tabloid format - have suffered circulation declines, which are hitting revenues. The Telegraph has announced no plans to go tabloid although both The Independent and The Times have seen circulation rise since shrinking in size.\n",
      "The Guardian is hedging its bets, planning a larger tabloid format like those popular in continental Europe. The Telegraph Group was bought by the Barclay twins - Frederick and David - last year, having previously been owned by Lord Conrad Black's Hollinger International. The brothers are currently mulling the sale of another of their businesses, retailer Littlewoods.\n",
      "Millions of Indonesians use kerosene for basic cooking, and prices have been heavily subsidised for years. President Susilo Bambang Yudhoyono's government has said it wants to curb fuel subsidies and direct the money into aid programmes for the poor. But critics argue cutting subsidies will hurt the poorer families that his government says it wants to help. Millions of people were left homeless in Indonesia Aceh's region following the earthquake and tsunami disaster in late December.\n",
      "Indonesia pays subsidies to importers in order to stabilise domestic fuel prices, but higher oil prices have forced the government to spend more on holding prices down. It spent 59.2 trillion rupiah ($6.58bn; £3.5bn) on fuel subsidies in 2004, a sum far in excess of its original projection of 14.5 trillion rupiah. Since President Yudhoyono's government came to power in October, it has indicated its intention of raising domestic fuel prices by cutting subsidies.\n"
     ]
    }
   ],
   "source": [
    "JSON_FILE_PATH = \"data/News3.json\"\n",
    "extracted_json_text = extract_json_text(file_path=JSON_FILE_PATH)\n",
    "print(extracted_json_text)"
   ]
  },
  {
   "cell_type": "code",
   "execution_count": null,
   "id": "b610025b",
   "metadata": {},
   "outputs": [],
   "source": []
  }
 ],
 "metadata": {
  "kernelspec": {
   "display_name": "myenv",
   "language": "python",
   "name": "python3"
  },
  "language_info": {
   "codemirror_mode": {
    "name": "ipython",
    "version": 3
   },
   "file_extension": ".py",
   "mimetype": "text/x-python",
   "name": "python",
   "nbconvert_exporter": "python",
   "pygments_lexer": "ipython3",
   "version": "3.11.13"
  }
 },
 "nbformat": 4,
 "nbformat_minor": 5
}
